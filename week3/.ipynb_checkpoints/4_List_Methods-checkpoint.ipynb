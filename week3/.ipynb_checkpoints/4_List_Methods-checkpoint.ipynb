{
 "cells": [
  {
   "cell_type": "markdown",
   "metadata": {},
   "source": [
    "<img src=\"images/logo.jpg\" style=\"display: block; margin-left: auto; margin-right: auto;\" alt=\"לוגו של מיזם לימוד הפייתון. נחש מצויר בצבעי צהוב וכחול, הנע בין האותיות של שם הקורס: לומדים פייתון. הסלוגן המופיע מעל לשם הקורס הוא מיזם חינמי ללימוד תכנות בעברית.\">"
   ]
  },
  {
   "cell_type": "markdown",
   "metadata": {},
   "source": [
    "# <span style=\"text-align: right; direction: rtl; float: right;\">פעולות על רשימות</span>"
   ]
  },
  {
   "cell_type": "markdown",
   "metadata": {},
   "source": [
    "## <span style=\"text-align: right; direction: rtl; float: right; clear: both;\">הקדמה</span>"
   ]
  },
  {
   "cell_type": "markdown",
   "metadata": {},
   "source": [
    "<p style=\"text-align: right; direction: rtl; float: right; clear: both;\">\n",
    "    עד כה למדנו שישנם שני אופרטורים חשבוניים שעובדים על רשימות: חיבור וכפל.<br>\n",
    "    חיבור משרשר רשימה אחת לאחרת, וכפל משרשר רשימה לעצמה כמה פעמים.<br>\n",
    "    ניזכר בדוגמאות:\n",
    "</p>"
   ]
  },
  {
   "cell_type": "code",
   "execution_count": 1,
   "metadata": {},
   "outputs": [],
   "source": [
    "numbers = [1, 2]"
   ]
  },
  {
   "cell_type": "code",
   "execution_count": 2,
   "metadata": {},
   "outputs": [
    {
     "name": "stdout",
     "output_type": "stream",
     "text": [
      "[1, 2, 3, 4]\n"
     ]
    }
   ],
   "source": [
    "numbers = numbers + [3, 4]\n",
    "print(numbers)"
   ]
  },
  {
   "cell_type": "code",
   "execution_count": 3,
   "metadata": {},
   "outputs": [
    {
     "name": "stdout",
     "output_type": "stream",
     "text": [
      "[1, 2, 3, 4, 1, 2, 3, 4]\n"
     ]
    }
   ],
   "source": [
    "numbers = numbers * 2\n",
    "print(numbers)"
   ]
  },
  {
   "cell_type": "markdown",
   "metadata": {},
   "source": [
    "<p style=\"text-align: right; direction: rtl; float: right; clear: both;\">\n",
    "    למדנו גם שאפשר להשוות בין רשימות בעזרת אופרטורי השוואה, שעליהם למדנו בשיעור על ביטויים בוליאניים.\n",
    "</p>"
   ]
  },
  {
   "cell_type": "code",
   "execution_count": 4,
   "metadata": {},
   "outputs": [
    {
     "data": {
      "text/plain": [
       "False"
      ]
     },
     "execution_count": 4,
     "metadata": {},
     "output_type": "execute_result"
    }
   ],
   "source": [
    "numbers == [1, 2, 3, 4]"
   ]
  },
  {
   "cell_type": "code",
   "execution_count": 5,
   "metadata": {},
   "outputs": [
    {
     "data": {
      "text/plain": [
       "True"
      ]
     },
     "execution_count": 5,
     "metadata": {},
     "output_type": "execute_result"
    }
   ],
   "source": [
    "1 in numbers"
   ]
  },
  {
   "cell_type": "code",
   "execution_count": 6,
   "metadata": {},
   "outputs": [
    {
     "data": {
      "text/plain": [
       "False"
      ]
     },
     "execution_count": 6,
     "metadata": {},
     "output_type": "execute_result"
    }
   ],
   "source": [
    "[1, 2] in numbers"
   ]
  },
  {
   "cell_type": "markdown",
   "metadata": {},
   "source": [
    "<p style=\"text-align: right; direction: rtl; float: right; clear: both;\">\n",
    "    השבוע כבר הספקנו ללמוד על חיתוכים (Slicing), כך שיש לנו כבר ידע רב באשר לשימוש ברשימות.\n",
    "</p>"
   ]
  },
  {
   "cell_type": "code",
   "execution_count": 7,
   "metadata": {},
   "outputs": [
    {
     "name": "stdout",
     "output_type": "stream",
     "text": [
      "[1, 2, 3, 4, 1, 2, 3, 4]\n",
      "Flip the order: [4, 3, 2, 1, 4, 3, 2, 1]\n",
      "Only first 4 items: [1, 2, 3, 4]\n",
      "Only first 4 items, in reversed order:: [4, 3, 2, 1]\n"
     ]
    }
   ],
   "source": [
    "print(numbers)\n",
    "print(\"Flip the order: \" + str(numbers[::-1]))\n",
    "print(\"Only first 4 items: \" + str(numbers[:4]))\n",
    "print(\"Only first 4 items, in reversed order:: \" + str(numbers[3::-1]))"
   ]
  },
  {
   "cell_type": "markdown",
   "metadata": {},
   "source": [
    "To access elements at a specific location, use `[]` brackets with the index number.\n",
    "Counting starts at zero and negative values index in the other direction from the end.\n",
    "\n",
    "Also be aware, that like with functions lists might also be nested."
   ]
  },
  {
   "cell_type": "code",
   "execution_count": 8,
   "metadata": {},
   "outputs": [
    {
     "name": "stdout",
     "output_type": "stream",
     "text": [
      "5\n",
      "2\n",
      "14\n"
     ]
    }
   ],
   "source": [
    "l = [4, 5, -1, 2]\n",
    "print(l[1])\n",
    "print(l[-1])\n",
    "print(l[0] + 2 * l[1])"
   ]
  },
  {
   "cell_type": "markdown",
   "metadata": {},
   "source": [
    "<p style=\"text-align: right; direction: rtl; float: right; clear: both;\">\n",
    "    למרות כל הידע המועיל שצברנו עד כה, טרם נגענו בפעולות השייכות לנתונים מסוג רשימה.<br>\n",
    "    הפעולות האלו יתווספו לארגז הכלים שלנו, יקלו על כתיבת הקוד ויעשו אותו קריא יותר.\n",
    "</p>"
   ]
  },
  {
   "cell_type": "markdown",
   "metadata": {},
   "source": [
    "## <span style=\"text-align: right; direction: rtl; float: right; clear: both;\">פעולות על רשימה</span>"
   ]
  },
  {
   "cell_type": "markdown",
   "metadata": {},
   "source": [
    "<p style=\"text-align: right; direction: rtl; float: right; clear: both;\">\n",
    "נגדיר רשימה שתשמש אותנו לדוגמאות:\n",
    "</p>"
   ]
  },
  {
   "cell_type": "code",
   "execution_count": 2,
   "metadata": {},
   "outputs": [],
   "source": [
    "animals = ['pig', 'shark', 'lion']"
   ]
  },
  {
   "cell_type": "markdown",
   "metadata": {},
   "source": [
    "<p style=\"text-align: right; direction: rtl; float: right; clear: both;\">\n",
    "במהלך הרצת הדוגמאות נשים לב ש<mark>פעולות על הרשימה משפיעות ישירות על הרשימה עצמה</mark>.<br>\n",
    "זה אומר שלא נצטרך להשתמש בהשמה כדי לערוך את הרשימה שעליה אנחנו עובדים.\n",
    "</p>"
   ]
  },
  {
   "cell_type": "markdown",
   "metadata": {},
   "source": [
    "### <span style=\"text-align: right; direction: rtl; float: right; clear: both;\">הוספת איבר</span>"
   ]
  },
  {
   "cell_type": "markdown",
   "metadata": {},
   "source": [
    "<p style=\"text-align: right; direction: rtl; float: right; clear: both;\">\n",
    "רשימה היא סוג נתונים נוח לשימוש, בין היתר כיוון שניתן להוסיף לה כמה איברים שנרצה.<br>\n",
    "נוכל להוסיף איבר לסוף הרשימה באמצעות הפעולה <code>append</code>:\n",
    "</p>"
   ]
  },
  {
   "cell_type": "code",
   "execution_count": 15,
   "metadata": {},
   "outputs": [
    {
     "name": "stdout",
     "output_type": "stream",
     "text": [
      "['pig', 'shark', 'lion', 'duck']\n"
     ]
    }
   ],
   "source": [
    "animals.append('duck')\n",
    "print(animals)"
   ]
  },
  {
   "cell_type": "markdown",
   "metadata": {},
   "source": [
    "<p style=\"text-align: right; direction: rtl; float: right; clear: both;\">\n",
    "הפעולה הזו תשיג תוצאה דומה לקוד שכתבנו עד היום בדרך טיפה פחות אלגנטית:\n",
    "</p>"
   ]
  },
  {
   "cell_type": "code",
   "execution_count": 12,
   "metadata": {},
   "outputs": [
    {
     "name": "stdout",
     "output_type": "stream",
     "text": [
      "['pig', 'shark', 'lion', 'duck', 'duck']\n"
     ]
    }
   ],
   "source": [
    "animals = animals + ['duck']\n",
    "print(animals)"
   ]
  },
  {
   "cell_type": "markdown",
   "metadata": {},
   "source": [
    "<p style=\"text-align: right; direction: rtl; float: right; clear: both;\">\n",
    "שימו לב שבניגוד לשורה שמופיעה למעלה, <code>append</code> מאפשרת להוסיף בכל פעם איבר אחד בלבד.<br>\n",
    "ניסיון להעביר לפעולה <code>append</code> רשימה, נניח, יוסיף את הרשימה המשנית כולה כאיבר אחד בסוף הרשימה הראשית:\n",
    "</p>"
   ]
  },
  {
   "cell_type": "code",
   "execution_count": 13,
   "metadata": {},
   "outputs": [
    {
     "name": "stdout",
     "output_type": "stream",
     "text": [
      "['pig', 'shark', 'lion', 'duck', 'duck', ['duck', 'zebra']]\n"
     ]
    }
   ],
   "source": [
    "animals.append(['duck', 'zebra'])\n",
    "print(animals)"
   ]
  },
  {
   "cell_type": "markdown",
   "metadata": {},
   "source": [
    "<div class=\"align-center\" style=\"display: flex; text-align: right; direction: rtl; clear: both;\">\n",
    "    <div style=\"display: flex; width: 10%; float: right; clear: both;\">\n",
    "        <img src=\"images/exercise.svg\" style=\"height: 50px !important;\" alt=\"תרגול\"> \n",
    "    </div>\n",
    "    <div style=\"width: 90%\">\n",
    "        <p style=\"text-align: right; direction: rtl; float: right; clear: both;\">\n",
    "            כתבו פונקציה שמקבלת מספר, ומחזירה רשימה של כל המספרים החיוביים עד אותו מספר.\n",
    "        </p>\n",
    "    </div>\n",
    "</div>"
   ]
  },
  {
   "cell_type": "code",
   "execution_count": 4,
   "metadata": {
    "cocalc": {
     "outputs": {
      "0": {
       "name": "input",
       "opts": {
        "password": false,
        "prompt": "you pick a number an I will tell you what are the numbers before him  "
       },
       "output_type": "stream",
       "value": "8"
      }
     }
    }
   },
   "outputs": [
    {
     "name": "stdout",
     "output_type": "stream",
     "text": [
      "you pick a number an I will tell you what are the numbers before him   8this is a list of the numbers before the one you pick [0, 1, 2, 3, 4, 5, 6, 7]\n"
     ]
    }
   ],
   "source": [
    "user_input = int(input(\"you pick a number an I will tell you what are the numbers before him  \"))\n",
    "# user_input = 5\n",
    "\n",
    "\n",
    "def input_number_output_list(number):\n",
    "    i = 0\n",
    "    out_put_list = []\n",
    "    while i < number:\n",
    "        out_put_list.append(i)\n",
    "        i += 1\n",
    "    Sentence = f\"this is a list of the numbers before the one you pick {out_put_list}\"\n",
    "    return Sentence\n",
    "\n",
    "\n",
    "print(input_number_output_list(user_input))"
   ]
  },
  {
   "cell_type": "markdown",
   "metadata": {},
   "source": [
    "<div class=\"align-center\" style=\"display: flex; text-align: right; direction: rtl; clear: both;\">\n",
    "    <div style=\"display: flex; width: 10%; float: right; clear: both;\">\n",
    "        <img src=\"images/exercise.svg\" style=\"height: 50px !important;\" alt=\"תרגול\"> \n",
    "    </div>\n",
    "    <div style=\"width: 90%\">\n",
    "        <p style=\"text-align: right; direction: rtl; float: right; clear: both;\">\n",
    "            כתבו פונקציה שמקבלת מספר, ומחזירה רשימה של כל המספרים החיוביים הזוגיים עד אותו מספר.\n",
    "        </p>\n",
    "    </div>\n",
    "</div>"
   ]
  },
  {
   "cell_type": "code",
   "execution_count": 5,
   "metadata": {
    "cocalc": {
     "outputs": {
      "0": {
       "name": "input",
       "opts": {
        "password": false,
        "prompt": "you pick a number an I will tell you what are the numbers before him  "
       },
       "output_type": "stream",
       "value": "8"
      }
     }
    }
   },
   "outputs": [
    {
     "name": "stdout",
     "output_type": "stream",
     "text": [
      "you pick a number an I will tell you what are the numbers before him   8this is a list of the numbers before the one you pick [0, 2, 4, 6]\n"
     ]
    }
   ],
   "source": [
    "user_input = int(input(\"you pick a number an I will tell you what are the numbers before him  \"))\n",
    "#user_input = 5\n",
    " \n",
    " \n",
    "def input_number_output_list(number):\n",
    "    i = 0\n",
    "    out_put_list = []\n",
    "    while i < number:\n",
    "        if i % 2 == 0:\n",
    "            out_put_list.append(i)\n",
    "        i += 1\n",
    "    Sentence = f\"this is a list of the numbers before the one you pick {out_put_list}\"\n",
    "    return Sentence\n",
    " \n",
    " \n",
    "print(input_number_output_list(user_input))"
   ]
  },
  {
   "cell_type": "markdown",
   "metadata": {},
   "source": [
    "### <span style=\"text-align: right; direction: rtl; float: right; clear: both;\">הסרת איבר</span>"
   ]
  },
  {
   "cell_type": "markdown",
   "metadata": {},
   "source": [
    "<p style=\"text-align: right; direction: rtl; float: right; clear: both;\">\n",
    "נוכל להסיר איבר <em>מסוף הרשימה</em> באמצעות קריאה לפעולה <code>pop</code>:\n",
    "</p>"
   ]
  },
  {
   "cell_type": "code",
   "execution_count": 14,
   "metadata": {},
   "outputs": [
    {
     "name": "stdout",
     "output_type": "stream",
     "text": [
      "['pig', 'shark', 'lion', 'duck', 'duck']\n"
     ]
    }
   ],
   "source": [
    "animals.pop()\n",
    "print(animals)"
   ]
  },
  {
   "cell_type": "markdown",
   "metadata": {},
   "source": [
    "<p style=\"text-align: right; direction: rtl; float: right; clear: both;\">\n",
    "הפעולה הזו תשיג תוצאה דומה לקוד שכתבנו עד היום בצורה המסורבלת הבאה:\n",
    "</p>"
   ]
  },
  {
   "cell_type": "code",
   "execution_count": 15,
   "metadata": {},
   "outputs": [
    {
     "name": "stdout",
     "output_type": "stream",
     "text": [
      "['pig', 'shark', 'lion', 'duck']\n"
     ]
    }
   ],
   "source": [
    "animals += animals[:-1]\n",
    "print(animals)"
   ]
  },
  {
   "cell_type": "markdown",
   "metadata": {},
   "source": [
    "<p style=\"text-align: right; direction: rtl; float: right; clear: both;\">\n",
    "הפעולה <code>pop</code> מחזירה את הערך שהוציאה, כך שניתן לשמור אותו בצד:\n",
    "</p>"
   ]
  },
  {
   "cell_type": "code",
   "execution_count": 13,
   "metadata": {},
   "outputs": [
    {
     "name": "stdout",
     "output_type": "stream",
     "text": [
      "sharklionsharkpig\n",
      "[]\n"
     ]
    }
   ],
   "source": [
    "last_animal = animals.pop()\n",
    "print(last_animal)\n",
    "print(animals)"
   ]
  },
  {
   "cell_type": "markdown",
   "metadata": {},
   "source": [
    "<p style=\"text-align: right; direction: rtl; float: right; clear: both;\">\n",
    "הפעולה גם מאפשרת לנו לבחור את המקום שממנו אנחנו מעוניינים להוציא את הערך.<br>\n",
    "נעשה זאת בעזרת העברת ארגומנט עם מיקום הערך שאנחנו רוצים להוציא מהרשימה:\n",
    "</p>"
   ]
  },
  {
   "cell_type": "code",
   "execution_count": 0,
   "metadata": {},
   "outputs": [],
   "source": [
    "first_animal = animals.pop(0)\n",
    "print(first_animal)\n",
    "print(animals)"
   ]
  },
  {
   "cell_type": "markdown",
   "metadata": {},
   "source": [
    "<p style=\"text-align: right; direction: rtl; float: right; clear: both;\">\n",
    "כדי להסיר יותר מאיבר אחד, ייתכן שעדיין תעדיפו להשתמש בחיתוך רשימות.\n",
    "</p>"
   ]
  },
  {
   "cell_type": "markdown",
   "metadata": {},
   "source": [
    "<div class=\"align-center\" style=\"display: flex; text-align: right; direction: rtl; clear: both;\">\n",
    "    <div style=\"display: flex; width: 10%; float: right; clear: both;\">\n",
    "        <img src=\"images/exercise.svg\" style=\"height: 50px !important;\" alt=\"תרגול\"> \n",
    "    </div>\n",
    "    <div style=\"width: 90%\">\n",
    "        <p style=\"text-align: right; direction: rtl; float: right; clear: both;\">\n",
    "            כתבו פונקציה שמקבלת רשימה, ומחזירה רשימה בסדר איברים הפוך.<br>\n",
    "            השתמשו בפעולה <code>pop</code>.<br>\n",
    "            לדוגמה: אם תועבר לפונקציה הרשימה <code dir=\"ltr\" style=\"direction: ltr\">[3, 2, 1]</code>, הפונקציה תחזיר <code dir=\"ltr\" style=\"direction: ltr\">[1, 2, 3]</code>.\n",
    "        </p>\n",
    "    </div>\n",
    "</div>"
   ]
  },
  {
   "cell_type": "code",
   "execution_count": 0,
   "metadata": {},
   "outputs": [],
   "source": [
    "# Thorw a list numbers or elements separated by space and i will return it as a reverse  list\n",
    "user_input = input(\"Enter a list numbers separated by space  \")\n",
    "user_input = user_input.split()\n",
    "print(type(user_input))\n",
    "number = user_input\n",
    "i = (len(number)) -1\n",
    "out_put_list = []\n",
    "while  i >= 0:\n",
    "    pop_result = number.pop(i)\n",
    "    out_put_list.append(pop_result)\n",
    "    i -= 1\n",
    " \n",
    "print(out_put_list)"
   ]
  },
  {
   "cell_type": "markdown",
   "metadata": {},
   "source": [
    "### <span style=\"text-align: right; direction: rtl; float: right; clear: both;\">הוספה של כמה איברים</span>"
   ]
  },
  {
   "cell_type": "markdown",
   "metadata": {},
   "source": [
    "<p style=\"text-align: right; direction: rtl; float: right; clear: both;\">\n",
    "נוכל להוסיף יותר מאיבר אחד בשימוש יחיד בפעולה <code>extend</code>:\n",
    "</p>"
   ]
  },
  {
   "cell_type": "code",
   "execution_count": 3,
   "metadata": {},
   "outputs": [
    {
     "name": "stdout",
     "output_type": "stream",
     "text": [
      "['pig', 'shark', 'lion', 'duck', 'pig', 'zebra']\n"
     ]
    }
   ],
   "source": [
    "animals_to_add = ['duck', 'pig', 'zebra']\n",
    "animals.extend(animals_to_add)\n",
    "print(animals)"
   ]
  },
  {
   "cell_type": "markdown",
   "metadata": {},
   "source": [
    "<p style=\"text-align: right; direction: rtl; float: right; clear: both;\">\n",
    "במבט ראשון, הפעולה תשיג תוצאה דומה לשרשור רשימות:\n",
    "</p>"
   ]
  },
  {
   "cell_type": "code",
   "execution_count": 10,
   "metadata": {},
   "outputs": [
    {
     "name": "stdout",
     "output_type": "stream",
     "text": [
      "['shark', 'lion', 'duck', 'zebra', 'duck', 'zebra', 'duck', 'pig', 'zebra', 'pig', 'pig', 'pig', 'pig', 'pig']\n"
     ]
    }
   ],
   "source": [
    "animals_to_add = ['duck', 'pig', 'zebra', 'pig', 'pig', 'pig', 'pig', 'pig']\n",
    "animals = animals + animals_to_add\n",
    "print(animals)"
   ]
  },
  {
   "cell_type": "markdown",
   "metadata": {},
   "source": [
    "<p style=\"text-align: right; direction: rtl; float: right; clear: both;\">\n",
    "אבל אחד היתרונות המובהקים של <code>extend</code> הוא שניתן להעביר לה כארגומנט כל iterable שהוא.<br>\n",
    "הפעולה <code>extend</code> תפרק את ה־iterable ותוסיף כל איבר בנפרד לרשימה המקורית: \n",
    "</p>"
   ]
  },
  {
   "cell_type": "code",
   "execution_count": 2,
   "metadata": {},
   "outputs": [
    {
     "name": "stdout",
     "output_type": "stream",
     "text": [
      "['1', '2', '3', '4', '5', '6', '7', '8', '9', '10', '11']\n"
     ]
    }
   ],
   "source": [
    "string_numbers = ['1', '2', '3', '4', '5']\n",
    "string_numbers.extend('6789')  # string as argument\n",
    "string_numbers.extend(['10', '11'])  # list as argument\n",
    "print(string_numbers)"
   ]
  },
  {
   "cell_type": "markdown",
   "metadata": {},
   "source": [
    "<div class=\"align-center\" style=\"display: flex; text-align: right; direction: rtl; clear: both;\">\n",
    "    <div style=\"display: flex; width: 10%; float: right; clear: both;\">\n",
    "        <img src=\"images/exercise.svg\" style=\"height: 50px !important;\" alt=\"תרגול\"> \n",
    "    </div>\n",
    "    <div style=\"width: 90%\">\n",
    "        <p style=\"text-align: right; direction: rtl; float: right; clear: both;\">\n",
    "            כתבו פונקציה שמקבלת רשימה, ומחזירה רשימה המכילה את הרשימה המקורית, ומייד אחריה את אותה רשימה בסדר הפוך.<br>\n",
    "            לדוגמה: עבור הרשימה <code dir=\"ltr\" style=\"direction: ltr\">[1, 2, 3]</code> תוחזר הרשימה: <code dir=\"ltr\" style=\"direction: ltr\">[1, 2, 3, 3, 2, 1]</code>\n",
    "        </p>\n",
    "    </div>\n",
    "</div>"
   ]
  },
  {
   "cell_type": "markdown",
   "metadata": {},
   "source": [
    "### <span style=\"text-align: right; direction: rtl; float: right; clear: both;\">ספירת איברים</span>"
   ]
  },
  {
   "cell_type": "markdown",
   "metadata": {},
   "source": [
    "<p style=\"text-align: right; direction: rtl; float: right; clear: both;\">\n",
    "כאן לא תמצאו הפתעות מיוחדות. הפעולה <code>count</code> מחזירה את מספר האיברים ברשימה, שזהים לאיבר שהעברתם לה כארגומנט.<br>\n",
    "נשמע לכם מוכר? נכון! למחרוזות יש פעולה עם שם זהה שעושה בדיוק אותו דבר.\n",
    "</p>"
   ]
  },
  {
   "cell_type": "code",
   "execution_count": 7,
   "metadata": {},
   "outputs": [
    {
     "name": "stdout",
     "output_type": "stream",
     "text": [
      "['pig', 'shark', 'lion', 'duck', 'pig', 'zebra', 'duck', 'pig', 'zebra']\n",
      "I've found 2 zebras in your zoo!\n"
     ]
    }
   ],
   "source": [
    "print(animals)\n",
    "zebra_counter = animals.count('zebra')\n",
    "print(f\"I've found {zebra_counter} zebras in your zoo!\")"
   ]
  },
  {
   "cell_type": "markdown",
   "metadata": {},
   "source": [
    "### <span style=\"text-align: right; direction: rtl; float: right; clear: both;\">מציאת איבר</span>"
   ]
  },
  {
   "cell_type": "markdown",
   "metadata": {},
   "source": [
    "<p style=\"text-align: right; direction: rtl; float: right; clear: both;\">\n",
    "גם הפעולה הזו אמורה להישמע לכם מוכרת.<br>\n",
    "הפעולה <code>index</code> מוצאת את המופע הראשון של האיבר שהעברתם לה כארגומנט.<br>\n",
    "כן, גם הפעם למחרוזות יש פעולה באותו שם, שעושה בדיוק אותו דבר.\n",
    "</p>"
   ]
  },
  {
   "cell_type": "code",
   "execution_count": 5,
   "metadata": {},
   "outputs": [
    {
     "name": "stdout",
     "output_type": "stream",
     "text": [
      "['pig', 'shark', 'lion', 'duck', 'pig', 'zebra']\n",
      "The first zebra in your zoo hides in park number 5\n"
     ]
    }
   ],
   "source": [
    "print(animals)\n",
    "zebra_finder = animals.index('zebra')\n",
    "print(f\"The first zebra in your zoo hides in park number {zebra_finder}\")"
   ]
  },
  {
   "cell_type": "markdown",
   "metadata": {},
   "source": [
    "<div class=\"align-center\" style=\"display: flex; text-align: right; direction: rtl;\">\n",
    "    <div style=\"display: flex; width: 10%; float: right; \">\n",
    "        <img src=\"images/warning.png\" style=\"height: 50px !important;\" alt=\"אזהרה!\"> \n",
    "    </div>\n",
    "    <div style=\"width: 90%\">\n",
    "        <p style=\"text-align: right; direction: rtl;\">\n",
    "            כמו בפעולת <code>index</code> על מחרוזות, גם כאן הפעולה תזרוק שגיאה אם הערך לא נמצא.\n",
    "        </p>\n",
    "    </div>\n",
    "</div>"
   ]
  },
  {
   "cell_type": "markdown",
   "metadata": {},
   "source": [
    "<div class=\"align-center\" style=\"display: flex; text-align: right; direction: rtl; clear: both;\">\n",
    "    <div style=\"display: flex; width: 10%; float: right; clear: both;\">\n",
    "        <img src=\"images/exercise.svg\" style=\"height: 50px !important;\" alt=\"תרגול\"> \n",
    "    </div>\n",
    "    <div style=\"width: 90%\">\n",
    "        <p style=\"text-align: right; direction: rtl; float: right; clear: both;\">\n",
    "            כתבו פונקציה שמקבלת רשימה, ומחזירה את מיקום המופע <em>האחרון</em> של האיבר הראשון ברשימה.<br>\n",
    "            לדוגמה, עבור הרשימה <code dir=\"ltr\" style=\"direction: ltr\">[1, 2, 3, 5, 1, 2]</code> החזירו 4, כיוון ש־1 מופיע פעם אחרונה במקום 4 ברשימה.\n",
    "        </p>\n",
    "    </div>\n",
    "</div>"
   ]
  },
  {
   "cell_type": "code",
   "execution_count": 0,
   "metadata": {},
   "outputs": [],
   "source": []
  },
  {
   "cell_type": "code",
   "execution_count": 2,
   "metadata": {
    "cocalc": {
     "outputs": {
      "0": {
       "name": "input",
       "opts": {
        "password": false,
        "prompt": "enter a valid list: "
       },
       "output_type": "stream",
       "value": "['1']"
      }
     }
    }
   },
   "outputs": [
    {
     "name": "stdout",
     "output_type": "stream",
     "text": [
      "enter a valid list:  ['1']"
     ]
    }
   ],
   "source": [
    "test_list = input(\"enter a valid list: \")\n",
    "find_me = input(\"Tell me what are you looking for\")\n",
    "print(''.join(test_list))\n",
    "res = ''.join(test_list).rindex('find_me') \n",
    "print (\"The index of last element occurrence: \" + str(res))\n"
   ]
  },
  {
   "cell_type": "code",
   "execution_count": 0,
   "metadata": {},
   "outputs": [],
   "source": [
    "test_list = ['G', 'e', 'e', 'k', 's', 'f', 'o', 'r','g', 'e', 'e', 'k', 's'] \n",
    "find_me = 'e'\n",
    "place = 0\n",
    "i = 0\n",
    "while i < len(test_list):\n",
    "    if find_me == test_list[i]:\n",
    "        place = i\n",
    "    i += 1\n",
    "print(place)"
   ]
  },
  {
   "cell_type": "markdown",
   "metadata": {},
   "source": [
    "### <span style=\"text-align: right; direction: rtl; float: right; clear: both;\">מחיקת איבר (שוב?)</span>"
   ]
  },
  {
   "cell_type": "markdown",
   "metadata": {},
   "source": [
    "<p style=\"text-align: right; direction: rtl; float: right; clear: both;\">\n",
    "הפעם נשתמש בפעולה <code>remove</code>, שבניגוד לפעולה <code>pop</code> מוחקת איבר לפי הערך שלו ולא לפי המיקום שלו.<br>\n",
    "נשים לב שהפעולה תמחק את האיבר הראשון השווה לערך שהועבר כארגומנט, ולא את כל המופעים של אותו ערך.\n",
    "</p>"
   ]
  },
  {
   "cell_type": "code",
   "execution_count": 11,
   "metadata": {},
   "outputs": [
    {
     "name": "stdout",
     "output_type": "stream",
     "text": [
      "Animals: ['shark', 'lion', 'duck', 'zebra', 'duck', 'zebra', 'duck', 'pig', 'zebra', 'pig', 'pig', 'pig', 'pig', 'pig']\n",
      "Kosher Zoo: ['shark', 'lion', 'duck', 'zebra', 'duck', 'zebra', 'duck', 'zebra']\n"
     ]
    }
   ],
   "source": [
    "print(f\"Animals: {animals}\")\n",
    "while 'pig' in animals:\n",
    "    animals.remove('pig')\n",
    "print(f\"Kosher Zoo: {animals}\")"
   ]
  },
  {
   "cell_type": "markdown",
   "metadata": {},
   "source": [
    "<div class=\"align-center\" style=\"display: flex; text-align: right; direction: rtl; clear: both;\">\n",
    "    <div style=\"display: flex; width: 10%; float: right; clear: both;\">\n",
    "        <img src=\"images/exercise.svg\" style=\"height: 50px !important;\" alt=\"תרגול\"> \n",
    "    </div>\n",
    "    <div style=\"width: 90%\">\n",
    "        <p style=\"text-align: right; direction: rtl; float: right; clear: both;\">\n",
    "            קבלו פונקציה שמקבלת רשימה של חיות, ומחזירה רשימה שבה אין מופעים של החיות camel, rabbit ו־pig.<br>\n",
    "            לדוגמה, עבור הרשימה: <code dir=\"ltr\" style=\"direction: ltr\">['camel', 'camel', 'dove', 'pig', 'camel']</code> תוחזר הרשימה: <code dir=\"ltr\" style=\"direction: ltr\">['dove']</code>\n",
    "        </p>\n",
    "    </div>\n",
    "</div>"
   ]
  },
  {
   "cell_type": "code",
   "execution_count": 0,
   "metadata": {},
   "outputs": [],
   "source": [
    "animals = ['camel', 'pig', 'camel', 'rabbit', 'pig', 'camel', 'rabbit', 'camel', 'dove', 'pig', 'camel']\n",
    "non_kosher_nimals = ['pig', 'camel', 'rabbit']\n",
    "\n",
    "print(f\"Animals: {animals}\")\n",
    "while 'pig' in animals:\n",
    "    animals.remove('pig')\n",
    "while 'camel' in animals:\n",
    "    animals.remove('camel')  \n",
    "while 'rabbit' in animals:\n",
    "    animals.remove('rabbit')\n",
    "print(f\"Kosher Zoo: {animals}\")"
   ]
  },
  {
   "cell_type": "markdown",
   "metadata": {},
   "source": [
    "### <span style=\"text-align: right; direction: rtl; float: right; clear: both;\">סידור רשימה</span>"
   ]
  },
  {
   "cell_type": "markdown",
   "metadata": {},
   "source": [
    "<p style=\"text-align: right; direction: rtl; float: right; clear: both;\">\n",
    "אחת הפעולות הנוחות ביותר שאפשר לבצע על רשימה היא <code>sort</code>, שמסדרת לנו את האיברים ברשימה.<br>\n",
    "אם האיברים הם מחרוזות, הרשימה תסודר בסדר לקסיקוגרפי (אלפביתי).<br>\n",
    "אם האיברים ברשימה הם מספרים (שלמים, עשרוניים או גם וגם), הרשימה תסודר מתמטית מהקטן לגדול.<br>\n",
    "אם הרשימה מורכבת מסוגים שונים של איברים שאין ביניהם הגדרת שוויון ברורה (כמו מספרים ומחרוזות), פעולת הסידור תיכשל ותזרוק שגיאה.\n",
    "</p>"
   ]
  },
  {
   "cell_type": "code",
   "execution_count": 12,
   "metadata": {},
   "outputs": [],
   "source": [
    "animals = ['pig', 'shark', 'lion', 'duck', 'duck', 'zebra','camel', 'pig', 'camel', 'rabbit', 'pig', 'camel', 'rabbit', 'camel', 'dove', 'pig', 'camel']"
   ]
  },
  {
   "cell_type": "code",
   "execution_count": 13,
   "metadata": {},
   "outputs": [
    {
     "name": "stdout",
     "output_type": "stream",
     "text": [
      "['pig', 'shark', 'lion', 'duck', 'duck', 'zebra', 'camel', 'pig', 'camel', 'rabbit', 'pig', 'camel', 'rabbit', 'camel', 'dove', 'pig', 'camel']\n",
      "['camel', 'camel', 'camel', 'camel', 'camel', 'dove', 'duck', 'duck', 'lion', 'pig', 'pig', 'pig', 'pig', 'rabbit', 'rabbit', 'shark', 'zebra']\n"
     ]
    }
   ],
   "source": [
    "print(animals)\n",
    "animals.sort()\n",
    "print(animals)"
   ]
  },
  {
   "cell_type": "code",
   "execution_count": 1,
   "metadata": {},
   "outputs": [
    {
     "ename": "TypeError",
     "evalue": "'<' not supported between instances of 'str' and 'int'",
     "output_type": "error",
     "traceback": [
      "\u001b[0;31m---------------------------------------------------------------------------\u001b[0m",
      "\u001b[0;31mTypeError\u001b[0m                                 Traceback (most recent call last)",
      "\u001b[0;32m<ipython-input-1-bc1979a21c53>\u001b[0m in \u001b[0;36m<module>\u001b[0;34m\u001b[0m\n\u001b[1;32m      1\u001b[0m \u001b[0mstrange_list\u001b[0m \u001b[0;34m=\u001b[0m \u001b[0;34m[\u001b[0m\u001b[0;36m1\u001b[0m\u001b[0;34m,\u001b[0m \u001b[0;36m2\u001b[0m\u001b[0;34m,\u001b[0m \u001b[0;36m3\u001b[0m\u001b[0;34m,\u001b[0m \u001b[0;34m'dag maluah'\u001b[0m\u001b[0;34m]\u001b[0m\u001b[0;34m\u001b[0m\u001b[0;34m\u001b[0m\u001b[0m\n\u001b[0;32m----> 2\u001b[0;31m \u001b[0mstrange_list\u001b[0m\u001b[0;34m.\u001b[0m\u001b[0msort\u001b[0m\u001b[0;34m(\u001b[0m\u001b[0;34m)\u001b[0m\u001b[0;34m\u001b[0m\u001b[0;34m\u001b[0m\u001b[0m\n\u001b[0m",
      "\u001b[0;31mTypeError\u001b[0m: '<' not supported between instances of 'str' and 'int'"
     ]
    }
   ],
   "source": [
    "strange_list = [1, 2, 3, 'dag maluah']\n",
    "strange_list.sort()"
   ]
  },
  {
   "cell_type": "markdown",
   "metadata": {},
   "source": [
    "<div class=\"align-center\" style=\"display: flex; text-align: right; direction: rtl;\">\n",
    "    <div style=\"display: flex; width: 10%; float: right; \">\n",
    "        <img src=\"images/warning.png\" style=\"height: 50px !important;\" alt=\"אזהרה!\"> \n",
    "    </div>\n",
    "    <div style=\"width: 90%\">\n",
    "        <p style=\"text-align: right; direction: rtl;\">\n",
    "            טעות נפוצה היא השמת התוצאה של <code>sort</code> חזרה למשתנה.<br>\n",
    "            כיוון שהפעולה <code>sort</code> משנה את מיקום האיברים בתוך הרשימה ולא מחזירה ערך, השמה חזרה למשתנה תמחק את ערכו.\n",
    "        </p>\n",
    "    </div>\n",
    "</div>"
   ]
  },
  {
   "cell_type": "markdown",
   "metadata": {},
   "source": [
    "<div class=\"align-center\" style=\"display: flex; text-align: right; direction: rtl; clear: both;\">\n",
    "    <div style=\"display: flex; width: 10%; float: right; clear: both;\">\n",
    "        <img src=\"images/exercise.svg\" style=\"height: 50px !important;\" alt=\"תרגול\"> \n",
    "    </div>\n",
    "    <div style=\"width: 90%\">\n",
    "        <p style=\"text-align: right; direction: rtl; float: right; clear: both;\">\n",
    "        <strong>תרגול</strong>:\n",
    "            קבלו מהמשתמש 10 מספרים. מצאו את הערך השלישי הגדול ביותר.<br>\n",
    "            לדוגמה, עבור הקלט הבא: <code dir=\"ltr\" style=\"direction: ltr;\">5, 1, 6, 2, 3, 4, 8, 7, 10, 9</code>, החזירו 8.\n",
    "        </p>\n",
    "    </div>\n",
    "</div>"
   ]
  },
  {
   "cell_type": "code",
   "execution_count": 0,
   "metadata": {},
   "outputs": [],
   "source": [
    "# 5, 1, 6, 2, 3, 4, 8, 7, 10, 9\n",
    "i_out = (input(\"Enter a list with 10 digits \").replace(\" \", \"\")).split(\",\")\n",
    "print(type(i_out))\n",
    "print(len(i_out))\n",
    "length = len(i_out)\n",
    "i = 0\n",
    "new_list = []\n",
    "if len(i_out) < 10:\n",
    "    print(\"That's not a valid length of list - you need 10 digits \")\n",
    "    i_out = list(input(\"\").split())\n",
    "else:\n",
    "    while i < length:\n",
    "        new_list = i_out\n",
    "        if new_list[i].isnumeric():\n",
    "            new_list[i] = int(new_list[i])\n",
    "            i += 1\n",
    "        else:\n",
    "            new_list[i] = str(new_list[i])\n",
    "            new_list = new_list.sort()\n",
    "            i += 1\n",
    "print(new_list)\n",
    "new_list.sort()\n",
    "print(new_list)\n",
    "third_form_the_right = new_list[(length - 3)]\n",
    "print(\"third_form_the_right\",third_form_the_right)"
   ]
  },
  {
   "cell_type": "markdown",
   "metadata": {},
   "source": [
    "### <span style=\"text-align: right; direction: rtl; float: right; clear: both;\">הוספת איבר במקום מסוים</span>"
   ]
  },
  {
   "cell_type": "markdown",
   "metadata": {},
   "source": [
    "<div class=\"align-center\" style=\"display: flex; text-align: right; direction: rtl; clear: both;\">\n",
    "    <div style=\"display: flex; width: 10%; float: right; clear: both;\">\n",
    "        <img src=\"images/exercise.svg\" style=\"height: 50px !important;\" alt=\"תרגול\"> \n",
    "    </div>\n",
    "    <div style=\"width: 90%\">\n",
    "        <p style=\"text-align: right; direction: rtl; float: right; clear: both;\">\n",
    "        <strong>תרגול</strong>:\n",
    "            קראו בתיעוד של פייתון על הפעולה <code>insert</code> השייכת לערכים מסוג רשימה.<br>\n",
    "            הוסיפו דג מימין לכריש (shark) שברשימת <var>animals</var>.\n",
    "        </p>\n",
    "    </div>\n",
    "</div>"
   ]
  },
  {
   "cell_type": "code",
   "execution_count": 1,
   "metadata": {},
   "outputs": [],
   "source": [
    "animals = ['pig', 'shark', 'lion', 'duck', 'duck', 'zebra','camel', 'pig', 'camel', 'rabbit', 'pig', 'camel', 'rabbit', 'camel', 'dove', 'pig', 'camel']"
   ]
  },
  {
   "cell_type": "code",
   "execution_count": 0,
   "metadata": {},
   "outputs": [],
   "source": [
    "animals = ['pig', 'shark', 'lion', 'duck', 'duck', 'zebra','camel', 'pig', 'camel', 'rabbit', 'pig', 'camel', 'rabbit', 'camel', 'dove', 'pig', 'camel']\n",
    "length = len(animals)\n",
    "print(length)\n",
    "i = 0\n",
    "j = 0\n",
    "while i < 17:\n",
    "    print(animals[i])\n",
    "    if animals[i] == 'shark':\n",
    "        j = i + 1\n",
    "        animals.insert(j, \"Mega Fish\")\n",
    "    i += 1"
   ]
  },
  {
   "cell_type": "markdown",
   "metadata": {},
   "source": [
    "## <span style=\"text-align: right; direction: rtl; float: right;\">תרגילים נוספים</span>"
   ]
  },
  {
   "cell_type": "markdown",
   "metadata": {},
   "source": [
    "### <span style=\"text-align: right; direction: rtl; float: right; clear: both;\">חוטש</span>"
   ]
  },
  {
   "cell_type": "markdown",
   "metadata": {},
   "source": [
    "<p style=\"text-align: right; direction: rtl; float: right; clear: both;\">\n",
    "    כתבו פונקציה שמקבלת רשימה של רשימות, ומחזירה רשימה שטוחה והפוכה של כל האיברים.<br>\n",
    "    לדוגמה: עבור הרשימה <code dir=\"ltr\" style=\"direction: ltr\">[[1, 2, 3], [4, 5, 6]]</code> החזירו <code dir=\"ltr\" style=\"direction: ltr\">[6, 5, 4, 3, 2, 1]</code>.\n",
    "</p>"
   ]
  },
  {
   "cell_type": "markdown",
   "metadata": {},
   "source": [
    "### <span style=\"text-align: right; direction: rtl; float: right; clear: both;\">רשימת תיקונים</span>"
   ]
  },
  {
   "cell_type": "markdown",
   "metadata": {},
   "source": [
    "<p style=\"text-align: right; direction: rtl; float: right; clear: both;\">\n",
    "    לפניכם קוד שמטרתו היא מציאת המספר הקטן ביותר שהמשתמש הזין.<br>\n",
    "    הכמנו בקוד 3 טעויות. מצאו אותן ותקנו אותן כך שהקוד יפעל.\n",
    "</p>"
   ]
  },
  {
   "cell_type": "code",
   "execution_count": 0,
   "metadata": {},
   "outputs": [],
   "source": [
    "def get_minimum(numbers):\n",
    "    numbers = numbers.sort()\n",
    "    return numbers[-1]\n",
    "\n",
    "numbers = '8, 9, 10, 11, 12'.split(', ')\n",
    "minimum_number = get_minimum(numbers)\n",
    "print(f\"The minimum number is {minimum_number}\")"
   ]
  },
  {
   "cell_type": "code",
   "execution_count": 0,
   "metadata": {},
   "outputs": [],
   "source": [
    "def get_minimum(numbers):\n",
    "    \n",
    "    print(f\"inside the function {numbers} \")\n",
    "     numbers.sort()\n",
    "    print(f\"inside the function2 {numbers} \")\n",
    "    return numbers\n",
    "\n",
    "numbers = ('8, 9, 10, 11, 12').split(', ')\n",
    "print(type(numbers))\n",
    "minimum_number = get_minimum(numbers)\n",
    "print(f\"The minimum number is {minimum_number}\")"
   ]
  }
 ],
 "metadata": {
  "kernelspec": {
   "display_name": "Python 3",
   "language": "python",
   "name": "python3"
  },
  "language_info": {
   "codemirror_mode": {
    "name": "ipython",
    "version": 3
   },
   "file_extension": ".py",
   "mimetype": "text/x-python",
   "name": "python",
   "nbconvert_exporter": "python",
   "pygments_lexer": "ipython3",
   "version": "3.6.9"
  }
 },
 "nbformat": 4,
 "nbformat_minor": 4
}

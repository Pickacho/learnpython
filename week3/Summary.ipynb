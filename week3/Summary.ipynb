{
 "cells": [
  {
   "cell_type": "markdown",
   "metadata": {
    "collapsed": false
   },
   "source": [
    "<img src=\"images/logo.jpg\" style=\"display: block; margin-left: auto; margin-right: auto;\" alt=\"לוגו של מיזם לימוד הפייתון. נחש מצויר בצבעי צהוב וכחול, הנע בין האותיות של שם הקורס: לומדים פייתון. הסלוגן המופיע מעל לשם הקורס הוא מיזם חינמי ללימוד תכנות בעברית.\">"
   ]
  },
  {
   "cell_type": "markdown",
   "metadata": {
    "collapsed": false
   },
   "source": [
    "# <span style=\"text-align: right; direction: rtl; float: right; clear: both;\">תרגילים</span>"
   ]
  },
  {
   "cell_type": "markdown",
   "metadata": {
    "collapsed": false
   },
   "source": [
    "## <span style=\"text-align: right; direction: rtl; float: right; clear: both;\">הגדרה</span>"
   ]
  },
  {
   "cell_type": "markdown",
   "metadata": {
    "collapsed": false
   },
   "source": [
    "<p style=\"text-align: right; direction: rtl; float: right; clear: both;\">\n",
    "    פונקציית גיבוב היא פונקציה המקבלת קלט כלשהו ומחזירה ערך באורך קבוע.<br>\n",
    "    קיימות פונקציות גיבוב רבות, ולהן שימושים מגוונים.\n",
    "</p>\n",
    "\n",
    "<p style=\"text-align: right; direction: rtl; float: right; clear: both;\">\n",
    "    נמנה כמה תכונות נפוצות של פונקציות גיבוב:\n",
    "</p>\n",
    "    \n",
    "<ul style=\"text-align: right; direction: rtl; float: right; clear: both;\">\n",
    "   <li>דטרמיניזם – עבור קלט מסוים, הערך המוחזר יהיה תמיד זהה.</li>\n",
    "   <li>אחידות – כיוון שהערך המוחזר הוא בגודל קבוע, יש קלטים שעבורם הערך המוחזר זהה. פונקציית גיבוב טובה תנסה למזער את כמות הערכים המוחזרים הזהים.</li>\n",
    "   <li>חד־כיווניות – עבור ערך מסוים שהפונקציה החזירה, קשה למצוא מה הקלט שיצר אותו.</li>\n",
    "</ul>\n",
    "\n"
   ]
  },
  {
   "cell_type": "markdown",
   "metadata": {
    "collapsed": false
   },
   "source": [
    "## <span style=\"text-align: right; direction: rtl; float: right; clear: both;\">מימוש בסיסי</span>"
   ]
  },
  {
   "cell_type": "markdown",
   "metadata": {
    "collapsed": false
   },
   "source": [
    "<p style=\"text-align: right; direction: rtl; float: right; clear: both;\">\n",
    "    בתרגיל זה נממש גרסה פשוטה של פונקציית גיבוב (hash function).<br>\n",
    "    פונקציית הגיבוב שלנו תקבל מחרוזת ותחזיר תמיד פלט באורך זהה.\n",
    "</p>\n",
    "<p style=\"text-align: right; direction: rtl; float: right; clear: both;\">\n",
    "    תחילה נכיר את הפונקציה <code dir=\"ltr\" style=\"direction: ltr\">ord(תו)</code>.<br>\n",
    "    פונקציה זו מקבלת תו, ומחזירה ערך מספרי המייצג אותו:<br>\n",
    "</p>"
   ]
  },
  {
   "cell_type": "code",
   "execution_count": 1,
   "metadata": {
    "collapsed": false
   },
   "outputs": [
    {
     "data": {
      "text/plain": [
       "97"
      ]
     },
     "execution_count": 1,
     "metadata": {
     },
     "output_type": "execute_result"
    }
   ],
   "source": [
    "ord('a')"
   ]
  },
  {
   "cell_type": "markdown",
   "metadata": {
    "collapsed": false
   },
   "source": [
    "<p style=\"text-align: right; direction: rtl; float: right; clear: both;\">\n",
    "פונקציית הגיבוב שלנו תעבוד כך:<br>\n",
    "</p>\n",
    "<ol style=\"text-align: right; direction: rtl; float: right; clear: both;\">\n",
    "    <li>נאתחל משתנה עזר בשם <var>hash</var> כך שערכו יהיה 1.</li>\n",
    "    <li>עבור כל אות במחרוזת:</li>\n",
    "    <ol>\n",
    "        <li>נחשב את <code dir=\"ltr\" style=\"direction: ltr;\">ord(letter)</code> ונכפיל במשתנה העזר <var>hash</var>.</li>\n",
    "        <li>נכפיל את הערך שקיבלנו במיקום של האות הבאה במחרוזת.\n",
    "        <li>לתוצאה הזו נבצע מודולו 397,643, ונשמור על <var>hash</var>.</li>\n",
    "    </ol>\n",
    "    <li>כדי שהפלט תמיד יהיה באורך זהה, נשתמש במודולו 100,297 על התוצאה (חשבו: איך מודולו גורם לזה לקרות?)</li>\n",
    "</ol>\n",
    "<p style=\"text-align: right; direction: rtl; float: right; clear: both;\">\n",
    "פונקציית הגיבוב שיצרנו מחזירה תמיד ערכים באורך קבוע (בין 0 ל־100,297), כפי שפונקציית גיבוב צריכה להחזיר (לאו דווקא באורך זה, אבל הפלט חייב להיות באורך קבוע).\n",
    "</p>"
   ]
  },
  {
   "cell_type": "markdown",
   "metadata": {
    "collapsed": false
   },
   "source": [
    "<p style=\"text-align: right; direction: rtl; float: right; clear: both;\">\n",
    "    דוגמה:<br>\n",
    "</p>\n",
    "\n",
    "<code style=\"text-align: left; direction: ltr; float: left; clear: both;\">myhash('aba')</code><br>\n",
    "<samp style=\"text-align: left; direction: ltr; float: left; clear: both;\">62242</samp><br>\n",
    "\n",
    "<p style=\"text-align: right; direction: rtl; float: right; clear: both;\">\n",
    "    החישוב התבצע כך:<br>\n",
    "</p>\n",
    "\n",
    "<code style=\"text-align: left; direction: ltr; float: left; clear: both;\">temp_hash = 1</code><br>\n",
    "<code style=\"text-align: left; direction: ltr; float: left; clear: both;\">temp_hash = (temp_hash * ord('a') * 1) % 397643</code>\n",
    "<samp style=\"text-align: left; direction: ltr; float: left; clear: both;\"># temp_hash = (1 * 97 * 1) % 397643 = 97</samp><br>\n",
    "\n",
    "<p style=\"text-align: right; direction: rtl; float: right; clear: both;\">\n",
    "    שימו לב שכאן הכפלנו ב־1, כיוון שמיקום האות הוא 0 ואנו מכפילים\n",
    "    <em>באינדקס האות הבאה.</em>\n",
    "</p>\n",
    "\n",
    "<code style=\"text-align: left; direction: ltr; float: left; clear: both;\">temp_hash = (temp_hash * ord('b') * 2) % 397643</code>\n",
    "<samp style=\"text-align: left; direction: ltr; float: left; clear: both;\"># temp_hash = (97 * 98 * 2) % 397643 = 19012</samp>\n",
    "<code style=\"text-align: left; direction: ltr; float: left; clear: both;\">temp_hash = (temp_hash * ord('a') * 3) % 397643</code>\n",
    "<samp style=\"text-align: left; direction: ltr; float: left; clear: both;\"># temp_hash = (19012 * 97 * 3) % 397643 = 363133</samp>\n",
    "<code style=\"text-align: left; direction: ltr; float: left; clear: both;\">return temp_hash % 100297</code>\n",
    "<samp style=\"text-align: left; direction: ltr; float: left; clear: both;\"># temp_hash = 363133 % 100297 = <b>62242</b></samp>"
   ]
  },
  {
   "cell_type": "markdown",
   "metadata": {
    "collapsed": false
   },
   "source": [
    "<p style=\"text-align: right; direction: rtl; float: right; clear: both;\">\n",
    "    ממשו את פונקציית הגיבוב.<br>\n",
    "    כדי לבדוק את עצמכם ודאו שקיבלתם את הערכים הבאים עבור המחרוזות הבאות:<br>\n",
    "</p>\n",
    "\n",
    "<ul style=\"text-align: left; direction: ltr; float: left; clear: both;\">\n",
    "    <li>\n",
    "        <code>myhash('python course')</code><br>\n",
    "        <samp>75273</samp>\n",
    "    </li>\n",
    "    <li>\n",
    "        <code>myhash('hashing is sababa')</code><br>\n",
    "        <samp>38166</samp>\n",
    "    </li>\n",
    "    <li>\n",
    "        <code>myhash('i calculate hashes for fun')</code><br>\n",
    "        <samp>68720</samp>\n",
    "    </li>\n",
    "</ul>"
   ]
  },
  {
   "cell_type": "markdown",
   "metadata": {
    "collapsed": false
   },
   "source": [
    "<p style=\"text-align: right; direction: rtl; float: right; clear: both;\">\n",
    "    שימו לב שזוהי פונקציית גיבוב מומצאת.<br>\n",
    "    לעולם לא נשתמש בפונקציות גיבוב שהמצאנו בסביבות אמיתיות שאנחנו מתכנתים(!), משום שדבר כזה יסכן בוודאות את המשתמשים במערכת.<br>\n",
    "    זה עולם שלם שנחקר רבות, ואנחנו תמיד נשתמש רק בפונקציות גיבוב שנחקרו במוסדות הרלוונטיים ופורסמו מטעמם.\n",
    "</p>"
   ]
  },
  {
   "cell_type": "code",
   "execution_count": 3,
   "metadata": {
    "collapsed": false
   },
   "outputs": [
   ],
   "source": [
    "# כתבו את הפונקציה שלכם כאן\n",
    "my_string = \"aba\"\n",
    "\n",
    "\n",
    "def my_hash(string):\n",
    "    i = 0\n",
    "    temp_hash = 1\n",
    "    while i < len(string):\n",
    "        temp_hash = (temp_hash * ord(string[i])) * (i + 1) % 397643\n",
    "        i += 1\n",
    "\n",
    "    out_put_hash = temp_hash % 100297\n",
    "    return out_put_hash\n",
    "\n",
    "\n",
    "print(my_hash(my_string))"
   ]
  },
  {
   "cell_type": "markdown",
   "metadata": {
    "collapsed": false
   },
   "source": [
    "## <span style=\"text-align: right; direction: rtl; float: right; clear: both;\">איקס־עיגול</span>"
   ]
  },
  {
   "cell_type": "markdown",
   "metadata": {
    "collapsed": false
   },
   "source": [
    "<p style=\"text-align: right; direction: rtl; float: right; clear: both;\">\n",
    "    נזכיר את החוקים של המשחק המוכר איקס־עיגול:<br>\n",
    "</p>\n",
    "\n",
    "<ul style=\"text-align: right; direction: rtl; float: right; clear: both;\">\n",
    "    <li>המשחק מתרחש על לוח בגודל 3 על 3.</li>\n",
    "    <li>\n",
    "        במשחק משתתפים שני שחקנים: שחקן שמשתמש באות <em>X</em> \n",
    "        ושחקן שמשתמש באות <em>O</em>.\n",
    "    </li>\n",
    "    <li>\n",
    "        השחקן שמשתמש באות <em>O</em> תמיד מתחיל.\n",
    "    </li>\n",
    "    <li>המשחק נמשך כל עוד יש מקום פנוי בלוח, או עד שהוכרז מנצח.</li>\n",
    "    <li>מנצח הוא מי שהציב את האות השייכת לו בכל התאים הנמצאים באלכסון, בשורה או בטור על הלוח.</li>\n",
    "</ul>"
   ]
  },
  {
   "cell_type": "markdown",
   "metadata": {
    "collapsed": false
   },
   "source": [
    "### <span style=\"text-align: right; direction: rtl; float: right; clear: both;\">מימוש המשחק</p>"
   ]
  },
  {
   "cell_type": "markdown",
   "metadata": {
    "collapsed": false
   },
   "source": [
    "#### <span style=\"text-align: right; direction: rtl; float: right; clear: both;\">ייצוג הלוח</span>"
   ]
  },
  {
   "cell_type": "markdown",
   "metadata": {
    "collapsed": false
   },
   "source": [
    "<p style=\"text-align: right; direction: rtl; float: right; clear: both;\">\n",
    "    את הלוח נייצג באמצעות רשימה של רשימות.<br>\n",
    "    כל רשימה תייצג שורה בלוח שלנו: הרשימה במיקום 0 תייצג את השורה הראשונה בלוח, הרשימה בשורה 1 את השורה השנייה וכך הלאה.<br>\n",
    "    הרשימות המייצגות את השורות יהיו רשימות של תווים, כאשר בכל תא יהיה אחד מבין התווים האפשריים – '<i>O</i>', '<i>X</i>' או '<i>-</i>'\n",
    "</p>"
   ]
  },
  {
   "cell_type": "markdown",
   "metadata": {
    "collapsed": false
   },
   "source": [
    "<p style=\"text-align: right; direction: rtl; float: right; clear: both;\">\n",
    "    לדוגמה, כך נראה לוח ריק:\n",
    "</p>\n",
    "    \n",
    "<samp style=\"float: left; clear: both;\">[['-', '-', '-'], ['-', '-', '-'], ['-', '-', '-']]</samp>\n",
    "    \n",
    "<p style=\"text-align: right; direction: rtl; float: right; clear: both;\">\n",
    "    נוח לדמיין את הרשימה הזו כתובה במאונך:\n",
    "</p>\n",
    "\n",
    "<samp style=\"float: left; clear: both;\">\n",
    "[\n",
    "    ['-', '-', '-'],\n",
    "    ['-', '-', '-'],\n",
    "    ['-', '-', '-']\n",
    "]\n",
    "</samp>\n",
    "    \n",
    "<p style=\"text-align: right; direction: rtl; float: right; clear: both;\">\n",
    "    כעת נראה איך נראה הלוח כאשר יש <samp>'X'</samp>־ים באלכסון:\n",
    "</p>\n",
    "\n",
    "<samp style=\"float: left; clear: both;\">\n",
    "[\n",
    "    ['X', '-', '-'],\n",
    "    ['-', 'X', '-'],\n",
    "    ['-', '-', 'X']\n",
    "]</samp>\n",
    "\n",
    "<p style=\"text-align: right; direction: rtl; float: right; clear: both;\">\n",
    "    וללא ההדפסה לאורך:\n",
    "</p>\n",
    "\n",
    "<samp style=\"float: left; clear: both;\">[['X', '-', '-'], ['-', 'X', '-'], ['-', '-', 'X']]</samp>\n"
   ]
  },
  {
   "cell_type": "markdown",
   "metadata": {
    "collapsed": false
   },
   "source": [
    "<p style=\"text-align: right; direction: rtl; float: right; clear: both;\">\n",
    "    תחילה נממש פונקציה המקבלת את הלוח ובודקת אם יש מנצח כלשהו \n",
    "    (<em>X</em> או <em>O</em>),\n",
    "    ומחזירה את האות של המנצח\n",
    "    (<samp>'X'</samp> או <samp>'O'</samp>)\n",
    "    אם יש מנצח, או <samp>''</samp> (מחרוזת ריקה) אחרת.\n",
    "</p>\n",
    "<p style=\"text-align: right; direction: rtl; float: right; clear: both;\">\n",
    "חִשבו אילו בדיקות נידרש לבצע כדי למצוא אם יש בלוח מצב של ניצחון. ממשו את הפונקציה <code>check_board(board)</code> כך שתשתמש בכמה שיותר פונקציות עזר.\n",
    "</p>"
   ]
  },
  {
   "cell_type": "code",
   "execution_count": 3,
   "metadata": {
    "collapsed": false
   },
   "outputs": [
   ],
   "source": [
    "# check_board(board)כתבו את הפונקציה שלכם כאן\n",
    "\n",
    "clean_board = [['-', '-', '-'], ['-', '-', '-'], ['-', '-', '-']]\n",
    "# bb   -0- 0    1    2   -1- 0   1    2   -3-  0    1    2\n",
    "var = [['X', 'O', 'X'], ['X', 'X', '-'], ['O', '-', 'X']]\n",
    "####################################################################\n",
    "player1 = \"O\"\n",
    "player2 = \"X\"\n",
    "status = \"\"\n",
    "counter = \"\"\n",
    "####################################################################\n",
    "# column  0         -1-         2\n",
    "top_to_button0 = var[0][0] == var[1][0] == var[2][0]\n",
    "top_to_button1 = var[0][1] == var[1][1] == var[2][1]\n",
    "top_to_button2 = var[0][2] == var[1][2] == var[2][2]\n",
    "####################################################################\n",
    "# lines    0         -1-         2\n",
    "top_line = var[0][0] == var[0][1] == var[0][2]\n",
    "middle_line = var[1][0] == var[1][1] == var[1][2]\n",
    "bottom_line = var[2][0] == var[2][1] == var[2][2]\n",
    "####################################################################\n",
    "# diagonal\n",
    "diagonalL_to_R = var[0][0] == var[1][1] == var[2][2]\n",
    "diagonalR_to_L = var[0][2] == var[1][1] == var[0][0]\n",
    "\n",
    "\n",
    "####################################################################\n",
    "# Full Board with no victory\n",
    "def full_Board_with_no_victory(status, counter):\n",
    "    if status == 0 and counter == 9:\n",
    "        status = 2\n",
    "        return status\n",
    "\n",
    "\n",
    "# print(clean_board)\n",
    "# print(var[0][0], var[1][0], var[2][0])\n",
    "\n",
    "\n",
    "def check_board(board):\n",
    "    print(board[0][0])\n",
    "    if top_to_button0:\n",
    "        if board[0][0] == player1:\n",
    "            return f\"top_to_button0 player1\"\n",
    "        elif board[0][0] == player2:\n",
    "            return f\"top_to_button0 player2\"\n",
    "    elif top_to_button1:\n",
    "        if board[0][1] == player1:\n",
    "            return f\"top_to_button1 player1\"\n",
    "        elif board[0][1] == player2:\n",
    "            return f\"top_to_button1 player2\"\n",
    "    elif top_to_button2:\n",
    "        if board[0][2] == player1:\n",
    "            return f\"top_to_button2 player1\"\n",
    "        elif board[0][2] == player2:\n",
    "            return f\"top_to_button2 player2\"\n",
    "    elif top_line:\n",
    "        if board[0][0] == player1:\n",
    "            return f\"top_line player1\"\n",
    "        elif board[0][0] == player2:\n",
    "            return f\"top_line player2\"\n",
    "    elif middle_line:\n",
    "        if board[1][0] == player1:\n",
    "            return f\"middle_line player1\"\n",
    "        elif board[1][0] == player2:\n",
    "            return f\"middle_line player2\"\n",
    "    elif bottom_line:\n",
    "        if board[2][0] == player1:\n",
    "            return f\"bottom_line player1\"\n",
    "        elif board[2][0] == player2:\n",
    "            return f\"bottom_line player2\"\n",
    "    elif diagonalL_to_R:\n",
    "        if board[0][0] == player1:\n",
    "            return f\"diagonalL_to_R player1\"\n",
    "        elif board[0][0] == player2:\n",
    "            return f\"diagonalL_to_R player2\"\n",
    "    elif diagonalR_to_L:\n",
    "        if board[0][2] == player1:\n",
    "            return f\"diagonalR_to_L player1\"\n",
    "        elif board[0][2] == player2:\n",
    "            return f\"diagonalR_to_L player2\"\n",
    "    else:\n",
    "        print(\"No one wins\")\n",
    "        status = 0\n",
    "        return \"lets play Again\"\n",
    "\n",
    "\n",
    "\n",
    "new_var = f\"{var[0]}\\n{var[1]}\\n{var[2]}\"\n",
    "print(\"this is when i call to check_board\")\n",
    "print(check_board(var))\n"
   ]
  },
  {
   "cell_type": "markdown",
   "metadata": {
    "collapsed": false
   },
   "source": [
    "<p style=\"text-align: right; direction: rtl; float: right; clear: both;\">\n",
    "     לפני שתמשיכו הלאה, חשוב לוודא שהפונקציה שכתבתם עובדת, לכן נכתוב עבורה סדרה של בדיקות.<br>\n",
    "    כתבו בדיקות עבור המקרים הבאים:\n",
    "</p>\n",
    "\n",
    "<ul style=\"text-align: right; direction: rtl; float: right; clear: both;\">\n",
    "    <li>ניצחון באלכסון הראשי (שמאל למעלה–ימין למטה).</li>\n",
    "    <li>ניצחון באלכסון המשני (ימין למעלה–שמאל למטה).</li>\n",
    "    <li>ניצחון בכל אחד מהטורים.</li>\n",
    "    <li>ניצחון בכל אחת מהשורות.</li>\n",
    "    <li>לוח מלא ללא ניצחון.</li>\n",
    "    <li>לוח לא מלא ללא ניצחון (במקומות לא מסומנים יופיע הסימן <samp>'-'</samp>).</li>\n",
    "</ul>\n",
    "\n",
    "<p style=\"text-align: right; direction: rtl; float: right; clear: both;\">\n",
    "    בסך הכול תצטרכו לכתוב 10 בדיקות. בכל בדיקה הפעילו את הפונקציה שלכם <code>check_board(board)</code> על לוח כפי שמתואר ובדקו אם הפלט שמוחזר תואם לפלט שציפיתם לקבל.\n",
    "</p>\n"
   ]
  },
  {
   "cell_type": "code",
   "execution_count": 1,
   "metadata": {
    "collapsed": false
   },
   "outputs": [
   ],
   "source": [
    "clean_board = [['-', '-', '-'], ['-', '-', '-'], ['-', '-', '-']]\n",
    "# bb   -0- 0    1    2   -1- 0   1    2   -3-  0    1    2\n",
    "var = [['X', 'O', 'X'], ['X', 'X', '-'], ['O', '-', 'X']]\n",
    "####################################################################\n",
    "# column  0         -1-         2\n",
    "top_to_button0 = var[0][0] == var[1][0] == var[2][0]\n",
    "top_to_button1 = var[0][1] == var[1][1] == var[2][1]\n",
    "top_to_button2 = var[0][2] == var[1][2] == var[2][2]\n",
    "####################################################################\n",
    "# lines    0         -1-         2\n",
    "top_line = var[0][0] == var[0][1] == var[0][2]\n",
    "middle_line = var[1][0] == var[1][1] == var[1][2]\n",
    "bottom_line = var[2][0] == var[2][1] == var[2][2]\n",
    "####################################################################\n",
    "# diagonal\n",
    "diagonalL_to_R = var[0][0] == var[1][1] == var[2][2]\n",
    "diagonalR_to_L = var[0][2] == var[1][1] == var[0][0]\n",
    "####################################################################"
   ]
  },
  {
   "cell_type": "code",
   "execution_count": 0,
   "metadata": {
    "collapsed": false
   },
   "outputs": [
   ],
   "source": [
    "# בדיקה עבור אלכסון ראשי\n",
    "    elif diagonalL_to_R:\n",
    "        if board[0][0] == player1:\n",
    "            return f\"diagonalL_to_R player1\"\n",
    "        elif board[0][0] == player2:\n",
    "            return f\"diagonalL_to_R player2\""
   ]
  },
  {
   "cell_type": "code",
   "execution_count": 0,
   "metadata": {
    "collapsed": false
   },
   "outputs": [
   ],
   "source": [
    "# בדיקה עבור אלכסון משני\n",
    "    elif diagonalR_to_L:\n",
    "        if board[0][2] == player1:\n",
    "            return f\"diagonalR_to_L player1\"\n",
    "        elif board[0][2] == player2:\n",
    "            return f\"diagonalR_to_L player2\""
   ]
  },
  {
   "cell_type": "code",
   "execution_count": 0,
   "metadata": {
    "collapsed": false
   },
   "outputs": [
   ],
   "source": [
    "# בדיקה עבור טור שמאלי\n",
    "    if board[0][0] == player1:\n",
    "        return f\"top_to_button0 player1\"\n",
    "    elif board[0][0] == player2:\n",
    "        return f\"top_to_button0 player2\""
   ]
  },
  {
   "cell_type": "code",
   "execution_count": 0,
   "metadata": {
    "collapsed": false
   },
   "outputs": [
   ],
   "source": [
    "# בדיקה עבור טור אמצעי\n",
    "    elif top_to_button1:\n",
    "        if board[0][1] == player1:\n",
    "            return f\"top_to_button1 player1\"\n",
    "        elif board[0][1] == player2:\n",
    "            return f\"top_to_button1 player2\""
   ]
  },
  {
   "cell_type": "code",
   "execution_count": 0,
   "metadata": {
    "collapsed": false
   },
   "outputs": [
   ],
   "source": [
    "# בדיקה עבור טור ימני\n",
    "    elif top_to_button2:\n",
    "        if board[0][2] == player1:\n",
    "            return f\"top_to_button2 player1\"\n",
    "        elif board[0][2] == player2:\n",
    "            return f\"top_to_button2 player2\""
   ]
  },
  {
   "cell_type": "code",
   "execution_count": 0,
   "metadata": {
    "collapsed": false
   },
   "outputs": [
   ],
   "source": [
    "#בדיקה עבור שורה עליונה\n",
    "    elif top_line:\n",
    "        if board[0][0] == player1:\n",
    "            return f\"top_line player1\"\n",
    "        elif board[0][0] == player2:\n",
    "            return f\"top_line player2\""
   ]
  },
  {
   "cell_type": "code",
   "execution_count": 0,
   "metadata": {
    "collapsed": false
   },
   "outputs": [
   ],
   "source": [
    "# בדיקה עבור שורה אמצעית\n",
    "    elif middle_line:\n",
    "        if board[1][0] == player1:\n",
    "            return f\"middle_line player1\"\n",
    "        elif board[1][0] == player2:\n",
    "            return f\"middle_line player2\""
   ]
  },
  {
   "cell_type": "code",
   "execution_count": 0,
   "metadata": {
    "collapsed": false
   },
   "outputs": [
   ],
   "source": [
    "# בדיקה עבור שורה תחתונה\n",
    "    elif bottom_line:\n",
    "        if board[2][0] == player1:\n",
    "            return f\"bottom_line player1\"\n",
    "        elif board[2][0] == player2:\n",
    "            return f\"bottom_line player2\""
   ]
  },
  {
   "cell_type": "code",
   "execution_count": 0,
   "metadata": {
    "collapsed": false
   },
   "outputs": [
   ],
   "source": [
    "# בדיקה עבור לוח מלא ללא ניצחון"
   ]
  },
  {
   "cell_type": "code",
   "execution_count": 0,
   "metadata": {
    "collapsed": false
   },
   "outputs": [
   ],
   "source": [
    "# בדיקה עבור לוח לא מלא ללא ניצחון\n",
    "    else:\n",
    "        print(\"No one wins\")\n",
    "        status = 0\n",
    "        return \"lets play Again\""
   ]
  },
  {
   "cell_type": "markdown",
   "metadata": {
    "collapsed": false
   },
   "source": [
    "#### <span style=\"text-align: right; direction: rtl; float: right; clear: both;\">פונקציות לבדיקת תקינות קלט</p>"
   ]
  },
  {
   "cell_type": "markdown",
   "metadata": {
    "collapsed": false
   },
   "source": [
    "<p style=\"text-align: right; direction: rtl; float: right; clear: both;\">\n",
    "    במהלך המשחק אנו נקלוט מהשחקנים במשחק (המשתמשים) את המקומות בלוח, שבהם הם ירצו למקם את האות שלהם.<br>\n",
    "    מקומות אלו יהיו שני מספרים בתחום 0–2 המציינים את השורה והעמודה שבה יש למקם את האות.<br>\n",
    "    לדוגמה, עבור:\n",
    "</p>\n",
    "\n",
    "<samp style=\"float: left; clear: both;\">1 2</samp>\n",
    "\n",
    "<p style=\"text-align: right; direction: rtl; float: right; clear: both;\">\n",
    "    נמקם את האות המתאימה לשחקן, נניח <em>X</em>, בשורה 1 ובעמודה 2, כך:\n",
    "</p>\n",
    "\n",
    "<samp style=\"float: left; clear: both;\">[['-', '-', '-'], ['-', '-', 'X'], ['-', '-', '-']]</samp>\n",
    "\n",
    "<p style=\"text-align: right; direction: rtl; float: right; clear: both;\">\n",
    "    זכרו כי הספירה מתחילה מ־0, ולכן מדובר בשורה האמצעית ובעמודה הימנית.\n",
    "</p>"
   ]
  },
  {
   "cell_type": "markdown",
   "metadata": {
    "collapsed": false
   },
   "source": [
    "<p style=\"text-align: right; direction: rtl; float: right; clear: both;\">\n",
    "    כעת כתבו פונקציה המקבלת את הלוח ואת האות שמייצגת את השחקן (<em>'X'</em> או <em>'O'</em>). כמו כן, הפונקציה תקלוט מהמשתמש שני מספרים.<br>\n",
    "    הפונקציה תבדוק אם התנאים הבאים מתקיימים, ואם הם מתקיימים היא תמקם את האות הנתונה במיקום המבוקש, ותעדכן את הלוח:<br>\n",
    "</p>\n",
    "\n",
    "<ul style=\"text-align: right; direction: rtl; float: right; clear: both;\">\n",
    "    <li>מספר השורה הוא בין 0 ל־2.</li>\n",
    "    <li>מספר העמודה הוא בין 0 ל־2.</li>\n",
    "    <li>המקום המבוקש לא תפוס על ידי אות כלשהי (כלומר יש בו <samp>'-'</samp>).</li>\n",
    "</ul>\n",
    "\n",
    "<p style=\"text-align: right; direction: rtl; float: right; clear: both;\">\n",
    "    שימו לב, <b>עליכם לחייב את המשתמש להכניס ערכים חוקיים</b>. כלומר, המשחק לא ימשיך עד שיתקבל קלט תקין (חשבו על דרך שבה התוכנית תמשיך לבקש מהמשתמש ערכים עד שיוכנסו ערכים חוקיים).<br>\n",
    "    כאשר נגלה בשלב מוקדם יותר שהלוח לא ניתן יותר למילוי – המשחק יסתיים.\n",
    "</p>\n",
    "\n",
    "<p style=\"text-align: right; direction: rtl; float: right; clear: both;\">\n",
    "    רמז: <span style=\"direction: rtl; background: #000; text: #000\">השתמשו בלולאת while</span>\n",
    "</p>\n"
   ]
  },
  {
   "cell_type": "markdown",
   "metadata": {
    "collapsed": false
   },
   "source": [
    "<p style=\"text-align: right; direction: rtl; float: right; clear: both;\">\n",
    "לוח לדוגמה:\n",
    "</p>\n",
    "\n",
    "<samp style=\"float: left; clear: both;\">\n",
    "board = [['-', '-', '-'], ['-', 'O', 'X'], ['-', '-', '-']]\n",
    "</samp>\n",
    "\n",
    "<p style=\"text-align: right; direction: rtl; float: right; clear: both;\">\n",
    "    הזנה חוקית:\n",
    "</p>\n",
    "\n",
    "<code style=\"float: left; clear: both;\">make_turn('X', board)</code>\n",
    "\n",
    "<br style=\"clear: both;\">\n",
    "\n",
    "<samp style=\"float: left; clear: both;\">Player 'X' Please choose cell:\n",
    "0 2\n",
    "</samp>\n",
    "<samp style=\"float: left; clear: both;\">[['-', '-', 'X'], ['-', 'O', 'X'], ['-', '-', '-']]</samp>\n",
    "\n",
    "<p style=\"text-align: right; direction: rtl; float: right; clear: both;\">\n",
    "    הזנה לא חוקית:\n",
    "</p>\n",
    "\n",
    "<br style=\"clear: both;\">\n",
    "\n",
    "<samp style=\"float: left; clear: both;\">Player 'X' Please choose cell:\n",
    "5 -2\n",
    "Invalid line chosen (5)\n",
    "Invalid column chosen (-2)\n",
    "[['-', '-', '-'], ['-', 'O', 'X'], ['-', '-', '-']]\n",
    "</samp>\n",
    "\n",
    "<br style=\"clear: both;\">\n",
    "\n",
    "<samp style=\"float: left; clear: both; padding-bottom: 5px;\">Player 'X' Please choose cell:\n",
    "1 2\n",
    "Cell (1,2) is taken, use other.\n",
    "[['-', '-', '-'], ['-', 'O', 'X'], ['-', '-', '-']]\n",
    "</samp>\n",
    "\n",
    "<br style=\"clear: both;\">\n",
    "\n",
    "<samp style=\"float: left; clear: both;\">Player 'X' Please choose cell:\n",
    "2 -2\n",
    "Invalid column chosen (-2)\n",
    "[['-', '-', '-'], ['-', 'O', 'X'], ['-', '-', '-']]\n",
    "</samp>\n",
    "\n",
    "<br style=\"clear: both;\">\n",
    "\n",
    "<samp style=\"float: left; clear: both;\">Player 'X' Please choose cell:\n",
    "1 1\n",
    "Cell (1,1) is taken, use other.\n",
    "[['-', '-', '-'], ['-', 'O', 'X'], ['-', '-', '-']]\n",
    "</samp>\n",
    "\n",
    "<br style=\"clear: both;\">\n",
    "\n",
    "<p style=\"text-align: right; direction: rtl; float: right; clear: both;\">\n",
    "    שימו לב שלאחר כל פעולה אנו מדפיסים את הלוח, בין אם הצליחה ובין אם לאו.\n",
    "</p>"
   ]
  },
  {
   "cell_type": "code",
   "execution_count": 4,
   "metadata": {
    "collapsed": false
   },
   "outputs": [
   ],
   "source": [
    "# make_turn(player_char,board) כתבו את הפונקציה שלכם כאן"
   ]
  },
  {
   "cell_type": "markdown",
   "metadata": {
    "collapsed": false
   },
   "source": [
    "<p style=\"text-align: right; direction: rtl; float: right; clear: both;\">\n",
    "    <b>בונוס</b>: ממשו פונקציה שמדפיסה את הלוח לאורך.\n",
    "</p>\n",
    "\n",
    "<code style=\"float: left; clear: both;\">print_board(board)</code>\n",
    "\n",
    "<br>\n",
    "\n",
    "<samp style=\"float: left; clear: both;\">\n",
    "[\n",
    "    ['-', '-', '-'],\n",
    "    ['-', '-', '-'],\n",
    "    ['-', '-', '-']\n",
    "]\n",
    "</samp>"
   ]
  },
  {
   "cell_type": "markdown",
   "metadata": {
    "collapsed": false
   },
   "source": [
    "#### <span style=\"text-align: right; direction: rtl; float: right; clear: both;\">מימוש המשחק</span>"
   ]
  },
  {
   "cell_type": "markdown",
   "metadata": {
    "collapsed": false
   },
   "source": [
    "<p style=\"text-align: right; direction: rtl; float: right; clear: both;\">\n",
    "    כאמור המשחק ממשיך כל עוד אין מנצח ונותר מקום פנוי בלוח.<br>\n",
    "    נשים לב כי מספר המהלכים החוקיים יכול להיות לכל היותר כגודל הלוח.<br>\n",
    "     כלומר – אם לא הוכרז מנצח במהלך המשחק, המשחק ייגמר לאחר 9 מהלכים עבור לוח בגודל $3\\times 3$.<br>\n",
    "    נספור כמה מהלכים חוקיים יש במשחק. עבור מספרי מהלך זוגיים (0, 2, 4, ...) ישחק השחקן <em>O</em>, ועבור מספרי מהלך אי־זוגיים ישחק השחקן <em>X</em>.<br>\n",
    "    נתאר את מהלך המשחק בפסאודו־קוד:<br>\n",
    "</p>\n",
    "<ol style=\"text-align: right; direction: rtl; float: right; clear: both;\">\n",
    "    <li>אתחל את מונה המהלכים ל־0.</li>\n",
    "    <li>כל עוד אין מנצח וגם הלוח לא מלא:\n",
    "        <ul>\n",
    "            <li>אם מספר המהלך זוגי – בצע מהלך שחקן <em>O</em>.</li>\n",
    "            <li>אם מספר המהלך אי־זוגי – בצע מהלך שחקן <em>X</em>.</li>\n",
    "        </ul>\n",
    "    </li>\n",
    "    <li>הגדל את מונה המהלכים ב־1. </li>\n",
    "    <li>אם יש ניצחון – הכרז על המנצח, אחרת הכרז תיקו.</li>\n",
    "</ol>\n",
    "<p style=\"text-align: right; direction: rtl; float: right; clear: both;\">\n",
    "    ממשו את המשחק על פי הפונקציות שיצרתם ועל פי תיאור מהלך המשחק.\n",
    "</p>"
   ]
  },
  {
   "cell_type": "code",
   "execution_count": 0,
   "metadata": {
    "collapsed": false
   },
   "outputs": [
   ],
   "source": [
    "# tic_tac_toe()"
   ]
  },
  {
   "cell_type": "markdown",
   "metadata": {
    "collapsed": false
   },
   "source": [
    "<p style=\"text-align: right; direction: rtl; float: right; clear: both;\">\n",
    "    כעת שחקו עם בני משפחה וחברים ;)\n",
    "</p>"
   ]
  },
  {
   "cell_type": "markdown",
   "metadata": {
    "collapsed": false
   },
   "source": [
    "## <span style=\"text-align: right; direction: rtl; float: right; clear: both;\">בנק 2.0</span>"
   ]
  },
  {
   "cell_type": "markdown",
   "metadata": {
    "collapsed": false
   },
   "source": [
    "<p style=\"text-align: right; direction: rtl; float: right; clear: both;\">\n",
    "    מנהלי הבנק היו מרוצים מאוד מהתוכנה הקודמת לניהול בנק שכתבתם וכעת הם מעוניינים לשפר אותה.<br>\n",
    "    תחילה הם הביעו דאגה מחוזק הסיסמאות. מנגנון הסיסמאות הקודם היה חלש ומנהלי הבנק מפחדים שייעשה בו שימוש לרעה.<br>\n",
    "    שמועות מתפשטות מהר מאוד ומנהלי הבנק שמעו שמימשתם גרסה לפונקציית גיבוב. הם מעוניינים להשתמש בה במנגנון הסיסמאות החדש.\n",
    "</p>\n",
    "\n",
    "<p style=\"text-align: right; direction: rtl; float: right; clear: both;\">\n",
    "    מנגנון הסיסמאות ינוהל כך:\n",
    "</p>\n",
    "\n",
    "<ol style=\"text-align: right; direction: rtl; float: right; clear: both;\">\n",
    "    <li>הבנק ינהל קובץ סיסמאות שייקרא bank_passwd.txt.</li>\n",
    "    <li>כאשר משתמש יפתח חשבון בנק, הוא יכניס את הסיסמה שהוא מעוניין שתשמש אותו בהתחברות הבאה.</li>\n",
    "    <li>נחשב את ה־hash של הסיסמה הזו באמצעות פונקציית ה־hash שכתבנו בתחילת מחברת זו.</li>\n",
    "    <li>הבנק ישמור את שם המשתמש ותוצאת ה־hash בקובץ הסיסמאות בצורה קבועה מראש.</li>\n",
    "</ol>\n",
    "\n",
    "<p style=\"text-align: right; direction: rtl; float: right; clear: both;\">\n",
    "    כל סיסמה של משתמש תישמר בקובץ בצורה: <samp>username:62242</samp>,<br>\n",
    "    כאשר <samp>username</samp> הוא שם המשתמש שנרשם בפתיחת החשבון, ו־<samp>62242</samp> הוא תוצאת ה־hash עבור הסיסמה שבחר.\n",
    "</p>"
   ]
  },
  {
   "cell_type": "markdown",
   "metadata": {
    "collapsed": false
   },
   "source": [
    "### <span style=\"text-align: right; direction: rtl; float: right; clear: both;\">פתיחת חשבון בנק</span>"
   ]
  },
  {
   "cell_type": "markdown",
   "metadata": {
    "collapsed": false
   },
   "source": [
    "<p style=\"text-align:right;direction:rtl;\">בסעיף זה נממש את פונקציית פתיחת חשבון הבנק.<br>\n",
    "    הפונקציה תקבל שם משתמש וסיסמה, ותיצור רשומה חדשה בקובץ הסיסמאות עבור המשתמש שביקש להצטרף לבנק.<br>\n",
    "    כיוון שהבנק שלנו לא עבר לעבוד עם מספרי חשבון, עלינו לוודא ששם המשתמש שנבחר לא קיים כבר בבנק. אם קיים כזה, נדפיס שגיאה ולא נבצע דבר.<br>\n",
    "    אם לא קיים שם משתמש כזה, נחשב את ה־hash של הסיסמה שהזין, ונוסיף לסוף הקובץ רשומה חדשה בייצוג שצוין בתחילת השאלה.\n",
    "</p>"
   ]
  },
  {
   "cell_type": "markdown",
   "metadata": {
    "collapsed": false
   },
   "source": [
    "#### <span style=\"text-align: right; direction: rtl; float: right; clear: both;\">דוגמאות</span>"
   ]
  },
  {
   "cell_type": "markdown",
   "metadata": {
    "collapsed": false
   },
   "source": [
    "<p style=\"text-align: right; direction: rtl; float: right; clear: both;\">\n",
    "תוכן קובץ הסיסמאות (לצורך הדוגמה):\n",
    "</p>\n",
    "\n",
    "<samp>FreddieMercury:56443</samp><br>\n",
    "<samp>BBKing:33471</samp><br>\n",
    "<samp>DonaldDuck:17743</samp><br><br>\n",
    "<code>register_to_bank('FreddieMercury', 'ILoveQueen')</code><br>\n",
    "<samp>An account with name \"FreddieMercury\" already exists.<br>Account was not created.</samp><br><br>\n",
    "<code>register_to_bank('Simba', 'ILoveNala')</code><br>\n",
    "<samp>Account with name \"Simba\" was created and added to the bank.</samp><br><br>\n",
    "\n",
    "<p style=\"text-align: right; direction: rtl; float: right; clear: both;\">\n",
    "    תוכן קובץ הסיסמאות כעת:\n",
    "</p>\n",
    "\n",
    "<samp>FreddieMercury:56443</samp><br>\n",
    "<samp>BBKing:19463</samp><br>\n",
    "<samp>DonaldDuck:17743</samp><br>\n",
    "<samp>Simba:6362</samp><br>"
   ]
  },
  {
   "cell_type": "markdown",
   "metadata": {
    "collapsed": false
   },
   "source": [
    "#### <span style=\"text-align: right; direction: rtl; float: right; clear: both;\">תרגיל</span>"
   ]
  },
  {
   "cell_type": "markdown",
   "metadata": {
    "collapsed": false
   },
   "source": [
    "<p style=\"text-align: right; direction: rtl; float: right; clear: both;\">ממשו את פונקציית הרישום.</p>\n",
    "<p style=\"text-align: right; direction: rtl; float: right; clear: both;\">רמזים:</p>\n",
    "\n",
    "<ul style=\"text-align: right; direction: rtl; float: right; clear: both;\">\n",
    "    <li style=\"direction: rtl; background: #000; text: #000\">קראו את המידע מהקובץ לתוך רשימה, זכרו שכל שורה היא מחרוזת וניתן להפעיל עליה פעולות של מחרוזות כדי לחלץ את שם המשתמש.</li>\n",
    "    <li style=\"direction: rtl; background: #000; text: #000\">כאשר פותחים קובץ במצב הוספה, ניתן להוסיף אליו נתונים מבלי למחוק את הקיימים. קראו על פונקציית open וחפשו כיצד עושים זאת.</li>\n",
    "</ul>"
   ]
  },
  {
   "cell_type": "code",
   "execution_count": 8,
   "metadata": {
    "collapsed": false
   },
   "outputs": [
   ],
   "source": [
    "# ממשו את פונקציית הרישום כאן register_to_bank(username,password)"
   ]
  },
  {
   "cell_type": "markdown",
   "metadata": {
    "collapsed": false
   },
   "source": [
    "### <span style=\"text-align: right; direction: rtl; float: right; clear: both;\">מערכת הזדהות</span>"
   ]
  },
  {
   "cell_type": "markdown",
   "metadata": {
    "collapsed": false
   },
   "source": [
    "<p style=\"text-align: right; direction: rtl; float: right; clear: both;\">\n",
    "    בעקבות השיפור במנגנון חוזק הסיסמאות, הצטרפו לקוחות רבים לבנק.<br>\n",
    "    המנהלים מרוצים וכעת רוצים שתממשו עבורם מערכת הזדהות שעובדת עם קובץ הסיסמאות.\n",
    "</p>\n",
    "\n",
    "<p style=\"text-align: right; direction: rtl; float: right; clear: both;\">\n",
    "    מערכת ההזדהות תעבוד כך:\n",
    "</p>\n",
    "\n",
    "<ul style=\"text-align: right; direction: rtl; float: right; clear: both;\">\n",
    "    <li>הלקוח יזין שם משתמש וסיסמה.\n",
    "        <ul>\n",
    "            <li>אם המשתמש לא קיים, נדפיס <samp>Account not registered</samp>, ונסיים.</li>\n",
    "            <li>אם הלקוח קיים, אך הסיסמה שהזין שגויה – יש ללקוח עוד 2 נסיונות להזין סיסמה נכונה.</li>\n",
    "        </ul>\n",
    "    </li>\n",
    "    <li>למשתמש ינתנו 3 ניסיונות בסך הכול להכניס סיסמה נכונה.\n",
    "        <ul>\n",
    "            <li>אם הזין סיסמה שגויה בשלושתם – הרשומה שלו תימחק מקובץ הסיסמאות, ויהיה עליו להירשם מחדש בעתיד.</li>\n",
    "            <li>אחרת, הזיהוי הצליח.</li>\n",
    "        </ul>\n",
    "    </li>\n",
    "</ul>\n",
    "\n",
    "<p style=\"text-align: right; direction: rtl; float: right; clear: both;\">\n",
    "    מערכת ההזדהות הינה פונקציה המקבלת שם משתמש וסיסמה.<br>\n",
    "    היא מחזירה <samp>True</samp> אם הזיהוי הצליח, ו־<samp>False</samp> אחרת.\n",
    "</p>"
   ]
  },
  {
   "cell_type": "markdown",
   "metadata": {
    "collapsed": false
   },
   "source": [
    "#### <span style=\"text-align: right; direction: rtl; float: right; clear: both;\">דוגמאות</span>"
   ]
  },
  {
   "cell_type": "markdown",
   "metadata": {
    "collapsed": false
   },
   "source": [
    "<p style=\"text-align: right; direction: rtl; float: right; clear: both;\">\n",
    "    תוכן קובץ הסיסמאות (לצורך הדוגמה):\n",
    "</p>\n",
    "\n",
    "<br>\n",
    "\n",
    "<samp>FreddieMercury:61875</samp><br>\n",
    "<samp>BBKing:33471</samp><br>\n",
    "<samp>DonaldDuck:17743</samp><br>\n",
    "<samp>Simba:6362</samp><br><br>\n",
    "<code>authenticate('FreddieMercury', 'ILoveQueen')</code><br>\n",
    "<samp>Wrong password (1/3).  # myhash('ILoveQueen') = 99597 != 61875 (in password file)</samp><br><br>\n",
    "<code>authenticate('FreddieMercury', 'LetItBe')</code><br>\n",
    "<samp>Wrong password (2/3).  # myhash('LetItBe') = 58060 != 61875 (in password file)</samp><br><br>\n",
    "<code>authenticate('FreddieMercury', 'HeyJude')</code><br>\n",
    "<samp>Wrong password (3/3). 'FreddieMercury' was removed.  # myhash('HeyJude') = 8309 != 61875 (in password file)</samp><br><br>\n",
    "<code>authenticate('FreddieMercury', 'IHatePasswords!')</code><br>\n",
    "<samp>Account not registered.  # FreddieMercury was removed in the previous example</samp><br><br>\n",
    "\n",
    "<code>authenticate('Simba', 'ILoveNala')</code><br>\n",
    "<samp>Welcome 'Simba'.  # myhash('ILoveNala') = 6362 == 6362 (in password file)</samp><br><br>\n",
    "\n",
    "<p style=\"text-align: right; direction: rtl; float: right; clear: both;\">\n",
    "    תוכן קובץ הסיסמאות כעת:\n",
    "</p>\n",
    "\n",
    "<br>\n",
    "\n",
    "<samp>BBKing:19463</samp><br>\n",
    "<samp>DonaldDuck:17743</samp><br>\n",
    "<samp>Simba:6362</samp><br>"
   ]
  },
  {
   "cell_type": "markdown",
   "metadata": {
    "collapsed": false
   },
   "source": [
    "#### <span style=\"text-align: right; direction: rtl; float: right; clear: both;\">תרגול</span>"
   ]
  },
  {
   "cell_type": "markdown",
   "metadata": {
    "collapsed": false
   },
   "source": [
    "<p style=\"text-align: right; direction: rtl; float: right; clear: both;\">\n",
    "    ממשו את מערכת ההזדהות.\n",
    "</p>"
   ]
  },
  {
   "cell_type": "code",
   "execution_count": 0,
   "metadata": {
    "collapsed": false
   },
   "outputs": [
   ],
   "source": [
    "# authenticate(username,password) ממשו את הפונקציה כאן"
   ]
  }
 ],
 "metadata": {
  "kernelspec": {
   "display_name": "Python 3 (system-wide)",
   "language": "python",
   "metadata": {
    "cocalc": {
     "description": "Python 3 programming language",
     "priority": 100,
     "url": "https://www.python.org/"
    }
   },
   "name": "python3"
  },
  "language_info": {
   "codemirror_mode": {
    "name": "ipython",
    "version": 3
   },
   "file_extension": ".py",
   "mimetype": "text/x-python",
   "name": "python",
   "nbconvert_exporter": "python",
   "pygments_lexer": "ipython3",
   "version": "3.6.9"
  }
 },
 "nbformat": 4,
 "nbformat_minor": 4
}
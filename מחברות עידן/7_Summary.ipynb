{
 "cells": [
  {
   "cell_type": "markdown",
   "metadata": {},
   "source": [
    "<img src=\"images/logo.jpg\" style=\"display: block; margin-left: auto; margin-right: auto;\" alt=\"לוגו של מיזם לימוד הפייתון. נחש מצויר בצבעי צהוב וכחול, הנע בין האותיות של שם הקורס: לומדים פייתון. הסלוגן המופיע מעל לשם הקורס הוא מיזם חינמי ללימוד תכנות בעברית.\">"
   ]
  },
  {
   "cell_type": "markdown",
   "metadata": {},
   "source": [
    "# <p style=\"text-align:right;direction:rtl\">תרגילים</p>"
   ]
  },
  {
   "cell_type": "markdown",
   "metadata": {},
   "source": [
    "## <p style=\"text-align:right;direction:rtl;\">מערכת בנק</p>"
   ]
  },
  {
   "cell_type": "markdown",
   "metadata": {},
   "source": [
    "<p style=\"text-align:right; direction:rtl;\">\n",
    "בתרגיל הזה נכתוב מערכת מעט חכמה יותר לבנק.<br>\n",
    "    נבנה אותה בשלבים באמצעות חלוקה לפונקציות.<br>\n",
    "בשלב הראשון נבנה פונקציה למחולל סיסמאות, שמקבלת שם משתמש ומחזירה סיסמה.<br>\n",
    "הסיסמה תורכב כך עבור שם משתמש נתון:<br>\n",
    "\n",
    "<ul style=\"text-align:right; direction:rtl;\"><li>שם המשתמש באותיות קטנות ומייד אחריו שם המשתמש באותיות גדולות.\n",
    "    </li><li>הוספת האות <em>\"X\"</em> מימין לשם המשתמש, כמספר האותיות בשם המשתמש.</li></ul>\n",
    "</p>\n",
    "<p style=\"text-align:right;direction:rtl;\">שימו לב כי שם המשתמש יכול לכלול ספרות וסימנים, נוסף על אותיות.<br>\n",
    "    כמו כן, לא נאפשר שם משתמש שהוא מחרוזת ריקה. במקרה זה החזירו מחרוזת ריקה.<br>\n",
    "    <br> לדוגמה, עבור שם המשתמש <em>'stam'</em> המחולל יחזיר את הסיסמה: <samp>'stamSTAMXXXX'</samp><br>הריצו את הפונקציה על 4 דוגמאות נוספות לפחות, באורכים שונים, ובדקו שקיבלתם פלט כמצופה.</p>"
   ]
  },
  {
   "cell_type": "code",
   "execution_count": 5,
   "metadata": {},
   "outputs": [
    {
     "name": "stdout",
     "output_type": "stream",
     "text": [
      "please enter your username stam\n",
      "please enter your password stamSTAMXXXX\n"
     ]
    },
    {
     "ename": "TypeError",
     "evalue": "'str' object is not callable",
     "output_type": "error",
     "traceback": [
      "\u001b[1;31m---------------------------------------------------------------------------\u001b[0m",
      "\u001b[1;31mTypeError\u001b[0m                                 Traceback (most recent call last)",
      "\u001b[1;32m<ipython-input-5-8f5d2d54466d>\u001b[0m in \u001b[0;36m<module>\u001b[1;34m\u001b[0m\n\u001b[0;32m     13\u001b[0m \u001b[0mname\u001b[0m \u001b[1;33m=\u001b[0m \u001b[0minput\u001b[0m\u001b[1;33m(\u001b[0m\u001b[1;34m\"please enter your username \"\u001b[0m\u001b[1;33m)\u001b[0m\u001b[1;33m\u001b[0m\u001b[1;33m\u001b[0m\u001b[0m\n\u001b[0;32m     14\u001b[0m \u001b[0mpassword\u001b[0m \u001b[1;33m=\u001b[0m \u001b[0minput\u001b[0m\u001b[1;33m(\u001b[0m\u001b[1;34m\"please enter your password \"\u001b[0m\u001b[1;33m)\u001b[0m\u001b[1;33m\u001b[0m\u001b[1;33m\u001b[0m\u001b[0m\n\u001b[1;32m---> 15\u001b[1;33m \u001b[0mlogin\u001b[0m\u001b[1;33m(\u001b[0m\u001b[0mname\u001b[0m\u001b[1;33m,\u001b[0m \u001b[0mpassword\u001b[0m\u001b[1;33m)\u001b[0m\u001b[1;33m\u001b[0m\u001b[1;33m\u001b[0m\u001b[0m\n\u001b[0m",
      "\u001b[1;32m<ipython-input-5-8f5d2d54466d>\u001b[0m in \u001b[0;36mlogin\u001b[1;34m(name, password)\u001b[0m\n\u001b[0;32m      7\u001b[0m         \u001b[1;32mreturn\u001b[0m \u001b[1;34m\"\"\u001b[0m\u001b[1;33m\u001b[0m\u001b[1;33m\u001b[0m\u001b[0m\n\u001b[0;32m      8\u001b[0m \u001b[1;32mdef\u001b[0m \u001b[0mlogin\u001b[0m\u001b[1;33m(\u001b[0m\u001b[0mname\u001b[0m\u001b[1;33m,\u001b[0m \u001b[0mpassword\u001b[0m\u001b[1;33m)\u001b[0m\u001b[1;33m:\u001b[0m\u001b[1;33m\u001b[0m\u001b[1;33m\u001b[0m\u001b[0m\n\u001b[1;32m----> 9\u001b[1;33m     \u001b[1;32mif\u001b[0m \u001b[0mpassword\u001b[0m\u001b[1;33m(\u001b[0m\u001b[0mname\u001b[0m\u001b[1;33m)\u001b[0m \u001b[1;33m==\u001b[0m \u001b[0mpassword\u001b[0m\u001b[1;33m:\u001b[0m\u001b[1;33m\u001b[0m\u001b[1;33m\u001b[0m\u001b[0m\n\u001b[0m\u001b[0;32m     10\u001b[0m         \u001b[0mprint\u001b[0m\u001b[1;33m(\u001b[0m\u001b[1;34m\"welcome\"\u001b[0m \u001b[1;33m+\u001b[0m \u001b[0mname\u001b[0m \u001b[1;33m+\u001b[0m \u001b[1;34m\"!\"\u001b[0m\u001b[1;33m)\u001b[0m\u001b[1;33m\u001b[0m\u001b[1;33m\u001b[0m\u001b[0m\n\u001b[0;32m     11\u001b[0m     \u001b[1;32melse\u001b[0m\u001b[1;33m:\u001b[0m\u001b[1;33m\u001b[0m\u001b[1;33m\u001b[0m\u001b[0m\n",
      "\u001b[1;31mTypeError\u001b[0m: 'str' object is not callable"
     ]
    }
   ],
   "source": [
    "# Upload 32\n",
    "def password(uname):\n",
    "    if name.isalpha():\n",
    "        return name.lower() + name.upper() + len(name) * \"X\"\n",
    "    else:\n",
    "        return \"\"\n",
    "def login(name, password):\n",
    "    if password(name) == password:\n",
    "        print(\"welcome\" + name + \"!\")\n",
    "    else:\n",
    "        return \"wrong password\"\n",
    "name = input(\"please enter your username \")\n",
    "password = input(\"please enter your password \")\n",
    "login(name, password)"
   ]
  },
  {
   "cell_type": "markdown",
   "metadata": {},
   "source": [
    "<p style=\"text-align:right;direction:rtl;\">הריצו את הפונקציה כך: <code>password_generator('stam')</code>"
   ]
  },
  {
   "cell_type": "markdown",
   "metadata": {},
   "source": [
    "<p style=\"text-align:right;direction:rtl;\">כעת נקבל שם משתמש וסיסמה, ונבדוק אם השילוב הוא נכון. בדקו באמצעות מחולל הסיסמאות מהסעיף הקודם אם הסיסמה של המשתמש תואמת את הסיסמה שיוצר המחולל. הדפיסו \"ברוך הבא\" אם הסיסמה נכונה, אחרת הדפיסו \"סיסמה שגויה\".</p>\n",
    "<code>login('stam', 'stamSTAMXXXX')</code><br><samp>Welcome stam!</samp><br><br><code>login('stam', 'mats')</code><br><samp>Wrong Password!</samp>"
   ]
  },
  {
   "cell_type": "code",
   "execution_count": 6,
   "metadata": {},
   "outputs": [
    {
     "name": "stdout",
     "output_type": "stream",
     "text": [
      "please enter your username stam\n",
      "please enter your password stamSTAMXXXX\n"
     ]
    },
    {
     "ename": "TypeError",
     "evalue": "'str' object is not callable",
     "output_type": "error",
     "traceback": [
      "\u001b[1;31m---------------------------------------------------------------------------\u001b[0m",
      "\u001b[1;31mTypeError\u001b[0m                                 Traceback (most recent call last)",
      "\u001b[1;32m<ipython-input-6-0ee7b553b997>\u001b[0m in \u001b[0;36m<module>\u001b[1;34m\u001b[0m\n\u001b[0;32m     11\u001b[0m \u001b[0mname\u001b[0m \u001b[1;33m=\u001b[0m \u001b[0minput\u001b[0m\u001b[1;33m(\u001b[0m\u001b[1;34m\"please enter your username \"\u001b[0m\u001b[1;33m)\u001b[0m\u001b[1;33m\u001b[0m\u001b[1;33m\u001b[0m\u001b[0m\n\u001b[0;32m     12\u001b[0m \u001b[0mpassword\u001b[0m \u001b[1;33m=\u001b[0m \u001b[0minput\u001b[0m\u001b[1;33m(\u001b[0m\u001b[1;34m\"please enter your password \"\u001b[0m\u001b[1;33m)\u001b[0m\u001b[1;33m\u001b[0m\u001b[1;33m\u001b[0m\u001b[0m\n\u001b[1;32m---> 13\u001b[1;33m \u001b[0mlogin\u001b[0m\u001b[1;33m(\u001b[0m\u001b[0mname\u001b[0m\u001b[1;33m,\u001b[0m \u001b[0mpassword\u001b[0m\u001b[1;33m)\u001b[0m\u001b[1;33m\u001b[0m\u001b[1;33m\u001b[0m\u001b[0m\n\u001b[0m",
      "\u001b[1;32m<ipython-input-6-0ee7b553b997>\u001b[0m in \u001b[0;36mlogin\u001b[1;34m(name, password)\u001b[0m\n\u001b[0;32m      5\u001b[0m         \u001b[1;32mreturn\u001b[0m \u001b[0mname\u001b[0m\u001b[1;33m.\u001b[0m\u001b[0mlower\u001b[0m\u001b[1;33m(\u001b[0m\u001b[1;33m)\u001b[0m \u001b[1;33m+\u001b[0m \u001b[0mname\u001b[0m\u001b[1;33m.\u001b[0m\u001b[0mupper\u001b[0m\u001b[1;33m(\u001b[0m\u001b[1;33m)\u001b[0m \u001b[1;33m+\u001b[0m \u001b[0mlen\u001b[0m\u001b[1;33m(\u001b[0m\u001b[0mname\u001b[0m\u001b[1;33m)\u001b[0m \u001b[1;33m*\u001b[0m \u001b[1;34m\"X\"\u001b[0m\u001b[1;33m\u001b[0m\u001b[1;33m\u001b[0m\u001b[0m\n\u001b[0;32m      6\u001b[0m \u001b[1;32mdef\u001b[0m \u001b[0mlogin\u001b[0m\u001b[1;33m(\u001b[0m\u001b[0mname\u001b[0m\u001b[1;33m,\u001b[0m \u001b[0mpassword\u001b[0m\u001b[1;33m)\u001b[0m\u001b[1;33m:\u001b[0m\u001b[1;33m\u001b[0m\u001b[1;33m\u001b[0m\u001b[0m\n\u001b[1;32m----> 7\u001b[1;33m     \u001b[1;32mif\u001b[0m \u001b[0mpassword\u001b[0m\u001b[1;33m(\u001b[0m\u001b[0mname\u001b[0m\u001b[1;33m)\u001b[0m \u001b[1;33m==\u001b[0m \u001b[0mpassword\u001b[0m\u001b[1;33m:\u001b[0m\u001b[1;33m\u001b[0m\u001b[1;33m\u001b[0m\u001b[0m\n\u001b[0m\u001b[0;32m      8\u001b[0m         \u001b[0mprint\u001b[0m\u001b[1;33m(\u001b[0m\u001b[1;34m\"login succeeded\"\u001b[0m\u001b[1;33m)\u001b[0m\u001b[1;33m\u001b[0m\u001b[1;33m\u001b[0m\u001b[0m\n\u001b[0;32m      9\u001b[0m     \u001b[1;32melse\u001b[0m\u001b[1;33m:\u001b[0m\u001b[1;33m\u001b[0m\u001b[1;33m\u001b[0m\u001b[0m\n",
      "\u001b[1;31mTypeError\u001b[0m: 'str' object is not callable"
     ]
    }
   ],
   "source": [
    "# כתבו את הפונקציה שלכם כאן\n",
    "\n",
    "def password(name):\n",
    "    if name.isalpha():\n",
    "        return name.lower() + name.upper() + len(name) * \"X\"\n",
    "def login(name, password):\n",
    "    if password(name) == password:\n",
    "        print(\"login succeeded\")\n",
    "    else:\n",
    "        print(\"False\")\n",
    "name = input(\"please enter your username \")\n",
    "password = input(\"please enter your password \")\n",
    "login(name, password)"
   ]
  },
  {
   "cell_type": "markdown",
   "metadata": {},
   "source": [
    "<p style=\"text-align:right;direction:rtl;\">כתבו פונקציה שמחזירה <code>True</code>\n",
    "    אם בוצע חיבור מוצלח, אחרת החזירו <code>False</code>.<br>\n",
    "פונקציה זו דומה מאוד לפונקציה הקודמת שכתבתם, רק שהיא אינה מדפיסה דבר.<br> במקום ההדפסה יוחזר ערך בוליאני מתאים.<br>לדוגמה:<br></p><br><code>login('stam', stamSTAMXXXX')</code><br><samp>True</samp><br><code>login('stam', 'mats')</code><br><samp>False</samp><br>"
   ]
  },
  {
   "cell_type": "code",
   "execution_count": null,
   "metadata": {},
   "outputs": [],
   "source": [
    "# כתבו את הפונקציה שלכם כאן"
   ]
  },
  {
   "cell_type": "markdown",
   "metadata": {},
   "source": [
    "<p style=\"text-align:right;direction:rtl;\">\n",
    " כעת ענו על השאלה הקודמת באמצעות הפונקציה שכתבתם בסעיף זה, כלומר כתבו פונקציה שמשתמשת בפונקציה המחזירה ערך בוליאני ומדפיסה בהתאם להוראת מהסעיף הקודם.<br>רמז: <span style=\"direction: rtl; background: #000; text: #000\">השתמשו בערך ההחזרה של הפונקציה מהסעיף הקודם, בתוך if.</span></p>\n"
   ]
  },
  {
   "cell_type": "code",
   "execution_count": null,
   "metadata": {},
   "outputs": [],
   "source": [
    "# כתבו את הפונקציה שלכם כאן"
   ]
  },
  {
   "cell_type": "markdown",
   "metadata": {},
   "source": [
    "<p style=\"text-align:right;direction:rtl;\">כעת נרחיב את מערכת הבנק שלנו.<br>\n",
    "    נניח כי לכל לקוח יש בחשבון הבנק 500 ש\"ח.<br>\n",
    "    באמצעות הפוקנציות הקודמות שכתבנו נממש את התוכנית הבאה:<br>\n",
    "<ul style=\"text-align:right; direction:rtl;\">\n",
    "    <li>נבקש מהמשתמש שם משתמש וסיסמה.</li>\n",
    "    <li>נאמת את שם המשתמש והסיסמה בעזרת מחולל הסיסמאות. אם האימות הצליח נדפיס: \n",
    "        <samp> ?Login succeeded. How much you'd like to withdraw </samp><br>\n",
    "        אחרת נדפיס: <samp>.Login failed</samp></li>\n",
    "    <li>כיון שלמשתמש יש 500 ש\"ח בחשבון, עלינו לוודא שסכום המשיכה אינו גבוה מ־500 ש\"ח. אם הסכום אכן גבוה מ־500 ש\"ח נדפיס: \n",
    "        <samp>.Withdrawal denied</samp></li>\n",
    "    <li>כמו כן, עלינו לוודא כי הסכום אינו שלילי או 0. במקרה זה נדפיס: \n",
    "        <samp>.Invalid amount</samp></li>\n",
    "    <li>אם הסכום חוקי, נדפיס: \n",
    "        <samp>.(Please take your money (amount asked). Your balance is: (amount left in balance</samp></li>\n",
    "</ul>\n",
    "</p>"
   ]
  },
  {
   "cell_type": "code",
   "execution_count": null,
   "metadata": {},
   "outputs": [],
   "source": [
    "def password(user_name):\n",
    "    return user_name.lower() + user_name.upper() + len(user_name) * \"X\"\n",
    "\n",
    "\n",
    "def login(user_name, user_password):\n",
    "    if password(user_name) == user_password:\n",
    "        withdrawal = float(input(\"login succeeded. How many you whould like to withdraw?\"))\n",
    "        if 0 < withdrawal <= 500:\n",
    "            print(\"please take your money\", \"(\", withdrawal, \"NIS\", \"). Your balance is:\", (500 - withdrawal), \".\")\n",
    "        elif 500 < withdrawal:\n",
    "            print(\"withdrawal denied\")\n",
    "        else:\n",
    "            print(\"invalid amount\")\n",
    "    else:\n",
    "        print(\"login failed\")\n",
    "\n",
    "\n",
    "user_name = input(\"please enter your username \")\n",
    "user_password = input(\"please enter your password \")\n",
    "login(user_name, user_password)"
   ]
  },
  {
   "cell_type": "markdown",
   "metadata": {},
   "source": [
    "<p style=\"text-align:right;direction:rtl\">ציירו תחילה על דף תרשים זרימה של הקוד – תרשים מעויינים ללא קוד.\n",
    "זה יעזור לכם במימוש.</p"
   ]
  },
  {
   "cell_type": "markdown",
   "metadata": {},
   "source": [
    "### <p style=\"text-align: right; direction: rtl; float: right; clear: both;\">דוגמאות:</p>"
   ]
  },
  {
   "cell_type": "markdown",
   "metadata": {},
   "source": [
    "<p style=\"text-align: left; direction: ltr; float: left; clear: both;\">\n",
    "    Insert username: <samp>stam</samp><br>\n",
    "    Insert password: <samp>stamSTAMXXXX</samp><br>\n",
    "    Login succeeded. How much you'd like to withdraw? <samp>200</samp><br>\n",
    "    Please take your money (200NIS). Your balance is: 300NIS.\n",
    "</p>"
   ]
  },
  {
   "cell_type": "markdown",
   "metadata": {},
   "source": [
    "<p style=\"text-align: right; direction: rtl; float: right; clear: both;\">\n",
    "    דוגמה לסיסמה שגויה:\n",
    "</p>\n",
    "<p style=\"text-align: left; direction: ltr; float: left; clear: both;\">\n",
    "    Insert username: <samp>stam</samp><br>\n",
    "    Insert password: <samp>mats</samp><br>\n",
    "    Login failed.\n",
    "</p>"
   ]
  },
  {
   "cell_type": "markdown",
   "metadata": {},
   "source": [
    "<p style=\"text-align: right; direction: rtl; float: right; clear: both;\">\n",
    "    דוגמה למשיכה לא חוקית:\n",
    "</p>\n",
    "\n",
    "<p style=\"text-align: left; direction: ltr; float: left; clear: both;\">\n",
    "    Insert username: <samp>stam</samp><br>\n",
    "    Insert password: <samp>stamSTAMXXXX</samp><br>\n",
    "    Login succeeded. How much you'd like to withdraw? <samp>600</samp><br>\n",
    "    Withdrawal denied.\n",
    "</p>"
   ]
  },
  {
   "cell_type": "markdown",
   "metadata": {},
   "source": [
    "<p style=\"text-align:right;direction:rtl;\">דוגמה למשיכה של 0 ש\"ח:</p>\n",
    "\n",
    "<p style=\"text-align: left; direction: ltr; float: left; clear: both;\">\n",
    "    Insert username: <samp>stam</samp><br>\n",
    "    Insert password: <samp>stamSTAMXXXX</samp><br>\n",
    "    Login succeeded. How much you'd like to withdraw? <samp>0</samp><br>\n",
    "    Invalid amount.\n",
    "</p>"
   ]
  },
  {
   "cell_type": "code",
   "execution_count": null,
   "metadata": {},
   "outputs": [],
   "source": [
    "# כתבו את הפונקציה שלכם כאן"
   ]
  },
  {
   "cell_type": "markdown",
   "metadata": {},
   "source": [
    "<p style=\"text-align: right; direction: rtl; float: right; clear: both;\">\n",
    "    לאחרונה עלתה דרישה לשכלל את הבנק שלנו, כך שרק מספר מצומצם של לקוחות יוכלו לגשת לבנק.<br>\n",
    "    הגדירו רשימה של שמות של לקוחות שעבורם יתאפשר החיבור.<br>\n",
    "    עבור לקוחות שאינם ברשימה יכתוב הבנק <samp>You are not a customer of the bank</samp>.\n",
    "</p>"
   ]
  },
  {
   "cell_type": "code",
   "execution_count": null,
   "metadata": {},
   "outputs": [],
   "source": [
    "# כתבו את הפונקציה שלכם כאן"
   ]
  },
  {
   "cell_type": "markdown",
   "metadata": {},
   "source": [
    "## <p style=\"text-align:right;direction:rtl;\">מתודות של מחרוזות</p>"
   ]
  },
  {
   "cell_type": "markdown",
   "metadata": {},
   "source": [
    "<p style=\"text-align:right;direction:rtl;\"> ניזכר בכמה פעולות של מחרוזות:<br>לכל אחד מהתרגילים הבאים הריצו את הדוגמה וכתבו בעצמכם 3 דוגמאות נוספות. הסבירו לעצמכם מה עושה כל מתודה למחרוזת שהיא מקבלת.<br>\n",
    "אם תרצו להיזכר מה עושה מתודה מסוימת תוכלו להריץ אותה כך:<br></p>\n",
    "<code>str.method-name?</code>\n",
    "<p style=\"text-align:right;direction:rtl;\"> לדוגמה:<br></p>\n",
    "<code>str.split?</code><br>\n",
    "<p style=\"text-align:right;direction:rtl;\"> הריצו את התא הבא לקבלת מידע על המתודה <em>split</em>:<br></p>\n"
   ]
  },
  {
   "cell_type": "code",
   "execution_count": null,
   "metadata": {},
   "outputs": [],
   "source": [
    "str.split?"
   ]
  },
  {
   "cell_type": "code",
   "execution_count": null,
   "metadata": {},
   "outputs": [],
   "source": [
    "\"abcdef:ghijk:xyz\".split(\":\")"
   ]
  },
  {
   "cell_type": "code",
   "execution_count": null,
   "metadata": {},
   "outputs": [],
   "source": [
    "# כתבו דוגמה למתודה זו\n",
    "# Upload 33\n",
    "my_name = \"my name is idan\"\n",
    "print(my_name.split())"
   ]
  },
  {
   "cell_type": "code",
   "execution_count": null,
   "metadata": {},
   "outputs": [],
   "source": [
    "# Upload 33\n",
    "print(\"hello world\".split())"
   ]
  },
  {
   "cell_type": "code",
   "execution_count": null,
   "metadata": {},
   "outputs": [],
   "source": [
    "# כתבו דוגמה למתודה זו\n",
    "# Upload 33\n",
    "print(\"I#want#to#be#a#python#programer\".split(\"#\"))"
   ]
  },
  {
   "cell_type": "code",
   "execution_count": null,
   "metadata": {},
   "outputs": [],
   "source": [
    "\"543\".zfill(4)"
   ]
  },
  {
   "cell_type": "code",
   "execution_count": 8,
   "metadata": {},
   "outputs": [
    {
     "name": "stdout",
     "output_type": "stream",
     "text": [
      "08 : 09\n"
     ]
    }
   ],
   "source": [
    "# כתבו דוגמה למתודה זו\n",
    "# Upload 33\n",
    "the_hour = \"8\"\n",
    "the_minute = \"9\" # 09:08\n",
    "print(the_hour.zfill(2), \":\", the_minute.zfill(2))"
   ]
  },
  {
   "cell_type": "code",
   "execution_count": 9,
   "metadata": {},
   "outputs": [
    {
     "name": "stdout",
     "output_type": "stream",
     "text": [
      "0000000000000000000000000000000000000000000000zuri\n"
     ]
    }
   ],
   "source": [
    "# Upload 33\n",
    "print(\"zuri\".zfill(50))"
   ]
  },
  {
   "cell_type": "code",
   "execution_count": null,
   "metadata": {},
   "outputs": [],
   "source": [
    "# כתבו דוגמה למתודה זו\n",
    "# Upload 33\n",
    "print(\"1\" + \"\".zfill(7))"
   ]
  },
  {
   "cell_type": "code",
   "execution_count": null,
   "metadata": {},
   "outputs": [],
   "source": [
    "\"now i am a lowercase string, one day i will be upper\".upper()"
   ]
  },
  {
   "cell_type": "code",
   "execution_count": 10,
   "metadata": {},
   "outputs": [
    {
     "name": "stdout",
     "output_type": "stream",
     "text": [
      "HELLO WORLD\n"
     ]
    }
   ],
   "source": [
    "# כתבו דוגמה למתודה זו\n",
    "# Upload 33\n",
    "print(\"hello world\".upper())"
   ]
  },
  {
   "cell_type": "code",
   "execution_count": 12,
   "metadata": {},
   "outputs": [
    {
     "name": "stdout",
     "output_type": "stream",
     "text": [
      "I WILL GROW UP SOMTIME :) ...\n",
      "IM BIG!!!\n"
     ]
    }
   ],
   "source": [
    "# כתבו דוגמה למתודה זו\n",
    "# Upload 33\n",
    "print(\"I will grow up somtime :) ...\".upper())\n",
    "print(\"Im big!!!\".upper())"
   ]
  },
  {
   "cell_type": "code",
   "execution_count": null,
   "metadata": {},
   "outputs": [],
   "source": [
    "# כתבו דוגמה למתודה זו\n",
    "# Upload 33\n",
    "x = \"let me go\"\n",
    "print(x.upper())"
   ]
  },
  {
   "cell_type": "code",
   "execution_count": null,
   "metadata": {},
   "outputs": [],
   "source": [
    "\"I AM AN UPPERCASE STRING. I AM AFRAID TO BE LOWERED!\".lower()"
   ]
  },
  {
   "cell_type": "code",
   "execution_count": null,
   "metadata": {},
   "outputs": [],
   "source": [
    "# כתבו דוגמה למתודה זו\n",
    "# Upload 33\n",
    "print(\"Hello world\".lower())"
   ]
  },
  {
   "cell_type": "code",
   "execution_count": null,
   "metadata": {},
   "outputs": [],
   "source": [
    "# כתבו דוגמה למתודה זו\n",
    "# Upload 33\n",
    "print(\"I will be small somtime...\".lower())\n",
    "print(\"Im small!!!\".lower())"
   ]
  },
  {
   "cell_type": "code",
   "execution_count": null,
   "metadata": {},
   "outputs": [],
   "source": [
    "# כתבו דוגמה למתודה זו\n",
    "# Upload 33\n",
    "print(\"Enuogh\".lower)"
   ]
  },
  {
   "cell_type": "code",
   "execution_count": null,
   "metadata": {},
   "outputs": [],
   "source": [
    "\"wow!_I_am_using_underscore_as_space!\".replace(\"_\", \" \")"
   ]
  },
  {
   "cell_type": "code",
   "execution_count": 13,
   "metadata": {},
   "outputs": [
    {
     "name": "stdout",
     "output_type": "stream",
     "text": [
      "my name is yam Idan\n"
     ]
    }
   ],
   "source": [
    "# כתבו דוגמה למתודה זו\n",
    "# upload 33\n",
    "print(\"my name is Idan Idan\".replace(\"Idan\", \"yam\", 1))"
   ]
  },
  {
   "cell_type": "code",
   "execution_count": 14,
   "metadata": {},
   "outputs": [
    {
     "name": "stdout",
     "output_type": "stream",
     "text": [
      "56567\n"
     ]
    }
   ],
   "source": [
    "# כתבו דוגמה למתודה זו\n",
    "# Upload 33\n",
    "x = \"567\"\n",
    "print(x.replace(\"7\", \"567\"))"
   ]
  },
  {
   "cell_type": "code",
   "execution_count": 15,
   "metadata": {},
   "outputs": [
    {
     "name": "stdout",
     "output_type": "stream",
     "text": [
      "good job\n"
     ]
    }
   ],
   "source": [
    "# כתבו דוגמה למתודה זו\n",
    "# Upload 33\n",
    "print(\"a waste of time\".replace(\"a waste of time\", \"good job\"))"
   ]
  },
  {
   "cell_type": "code",
   "execution_count": null,
   "metadata": {},
   "outputs": [],
   "source": [
    "\"                    i need some spaceeeeeeee                            \".strip()"
   ]
  },
  {
   "cell_type": "code",
   "execution_count": 16,
   "metadata": {},
   "outputs": [
    {
     "name": "stdout",
     "output_type": "stream",
     "text": [
      "let it go!!!\n"
     ]
    }
   ],
   "source": [
    "# כתבו דוגמה למתודה זו\n",
    "# upload 33\n",
    "print(\"                    let it go!!!   \".strip())"
   ]
  },
  {
   "cell_type": "code",
   "execution_count": null,
   "metadata": {},
   "outputs": [],
   "source": [
    "# כתבו דוגמה למתודה זו\n",
    "# Upload 33\n",
    "\"4546446576zuri4564576455\".strip(\"4567\")"
   ]
  },
  {
   "cell_type": "code",
   "execution_count": null,
   "metadata": {},
   "outputs": [],
   "source": [
    "# כתבו דוגמה למתודה זו"
   ]
  },
  {
   "cell_type": "code",
   "execution_count": null,
   "metadata": {},
   "outputs": [],
   "source": [
    "\"i^wonder&if@all##characters$in%%%this string are alpha-numeric???\".isalnum()"
   ]
  },
  {
   "cell_type": "code",
   "execution_count": null,
   "metadata": {},
   "outputs": [],
   "source": [
    "\"onlylettersandnumbers2342343\".isalnum()"
   ]
  },
  {
   "cell_type": "code",
   "execution_count": null,
   "metadata": {},
   "outputs": [],
   "source": [
    "# כתבו דוגמה למתודה זו\n",
    "# upload 33\n",
    "\"00000000000python - it was because of zfill אוי הברוך\".strip(\"0\")"
   ]
  },
  {
   "cell_type": "code",
   "execution_count": null,
   "metadata": {},
   "outputs": [],
   "source": [
    "# כתבו דוגמה למתודה זו\n",
    "\"i^wonder&if@all##characters$in%%%this string are alpha-numeric???\".isalnum()"
   ]
  },
  {
   "cell_type": "code",
   "execution_count": null,
   "metadata": {},
   "outputs": [],
   "source": [
    "# כתבו דוגמה למתודה זו"
   ]
  },
  {
   "cell_type": "code",
   "execution_count": null,
   "metadata": {},
   "outputs": [],
   "source": [
    "\"lettersonly\".isalpha()"
   ]
  },
  {
   "cell_type": "code",
   "execution_count": null,
   "metadata": {},
   "outputs": [],
   "source": [
    "# כתבו דוגמה למתודה זו\n",
    "# upload 33\n",
    "\"gfurgfygygg4ygyfyfu\".isalnum()"
   ]
  },
  {
   "cell_type": "code",
   "execution_count": null,
   "metadata": {},
   "outputs": [],
   "source": [
    "# כתבו דוגמה למתודה זו\n",
    "# upload 33\n",
    "\"python 3.6.3\".isalnum()"
   ]
  },
  {
   "cell_type": "code",
   "execution_count": null,
   "metadata": {},
   "outputs": [],
   "source": [
    "# כתבו דוגמה למתודה זו"
   ]
  },
  {
   "cell_type": "code",
   "execution_count": null,
   "metadata": {},
   "outputs": [],
   "source": [
    "\"4535354353\".isdecimal()"
   ]
  },
  {
   "cell_type": "code",
   "execution_count": null,
   "metadata": {},
   "outputs": [],
   "source": [
    "# כתבו דוגמה למתודה זו\n",
    "# upload 33\n",
    "\"python363\".isalnum()"
   ]
  },
  {
   "cell_type": "code",
   "execution_count": null,
   "metadata": {},
   "outputs": [],
   "source": [
    "# כתבו דוגמה למתודה זו\n",
    "# upload 33\n",
    "\"zuri the king 123\".isalpha()"
   ]
  },
  {
   "cell_type": "code",
   "execution_count": null,
   "metadata": {},
   "outputs": [],
   "source": [
    "# כתבו דוגמה למתודה זו\n",
    "# upload 33\n",
    "\"python course\".isalpha()"
   ]
  },
  {
   "cell_type": "markdown",
   "metadata": {},
   "source": [
    "## <p style=\"text-align:right;direction:rtl;\">שעון עולמי</p>"
   ]
  },
  {
   "cell_type": "markdown",
   "metadata": {},
   "source": [
    "<p style=\"text-align:right;direction:rtl;\">בשאלה זו נכתוב גרסה של שעון עולמי התומך ב־4 אזורי זמן:<br>\n",
    "\n",
    "<ul style=\"text-align: right; direction: rtl; float: right; clear: both;\">\n",
    "    <li>תל אביב – TLV</li>\n",
    "    <li>לונדון – LDN</li>\n",
    "    <li>ניו יורק – NYC</li>\n",
    "    <li>טוקיו – TYO</li>\n",
    "</ul>\n",
    "\n",
    "<p style=\"text-align: right; direction: rtl; float: right; clear: both;\">\n",
    "אם נקבל תל אביב, נחזיר את השעה בתוספת 3 שעות.<br>\n",
    "אם נקבל ניו יורק נחזיר את השעה פחות 4.<br>\n",
    "אם נקבל טוקיו נחזיר את השעה ועוד 9.<br>\n",
    "בכל מקרה אחר נחזיר את השעה כמו שקיבלנו אותה.\n",
    "</p>\n"
   ]
  },
  {
   "cell_type": "markdown",
   "metadata": {},
   "source": [
    "<p style=\"text-align:right;direction:rtl;\">השעון שלנו בתרגיל זה הוא שעון 24 שעות בפורמט HH:MM.</p>\n",
    "<p style=\"text-align:right;direction:rtl;\">תחילה, כתבו פונקציה המקבלת את השעה בפורמט HH:MM, ומקבלת את מספר השעות שיש להוסיף או להוריד מהשעה הנתונה, ומחזירה את השעה המעודכנת.</p><br>\n",
    "<code>time_shift(\"08:44\", 1)</code><br>\n",
    "<samp style=\"text-align:left;direction:ltr;\">\"09:44\"</samp><br>\n",
    "<code>time_shift(\"07:31\", -2)</code><br>\n",
    "<samp>\"05:31\"</samp>\n",
    "<p style=\"text-align:right;direction:rtl;\">כמו כן עליכם לוודא שמוכנסת שעה חוקית, ולהדפיס שגיאה אם לא:</p><br>\n",
    "<code>time_shift(\"32:12\", 4)</code><br>\n",
    "<samp>\"Invalid time inserted\"</samp>\n",
    "<p style=\"text-align:right;direction:rtl;\">נוסף לכך, עליכם לתמוך במעברים בין יממות. כלומר עליכם לבצע נכון פעולות מסוג זה:</p><br>\n",
    "<code>time_shift(\"23:30\", 2)</code><br>\n",
    "<samp>\"01:30\"</samp><br>\n",
    "<code>time_shift(\"04:13\", -5)</code><br>\n",
    "<samp>\"23:13\"</samp>"
   ]
  },
  {
   "cell_type": "code",
   "execution_count": 17,
   "metadata": {},
   "outputs": [
    {
     "name": "stdout",
     "output_type": "stream",
     "text": [
      "please enter the hour 02\n",
      "please enter the minute 30\n",
      "please enter the erea you want its time as tlv for tel-aviv, nyc for new-york, and tokio for tokio tokio\n",
      "11 : 30\n"
     ]
    }
   ],
   "source": [
    "# upload 34\n",
    "def time(hour, minute, area):\n",
    "    if area == \"tlv\" or area == \"nyc\" or area == \"tokio\":\n",
    "        if area == \"tlv\":\n",
    "            plus_to = 3\n",
    "        elif area == \"nyc\":\n",
    "            plus_to = -4\n",
    "        else:\n",
    "            plus_to = 9\n",
    "    else:\n",
    "        print(str(hour).zfill(2), \":\", str(minute).zfill(2))\n",
    "        return\n",
    "    wanted_hour = hour + plus_to\n",
    "    if wanted_hour > 23:\n",
    "        wanted_hour = wanted_hour % 24\n",
    "    if wanted_hour < 0:\n",
    "        wanted_hour = wanted_hour % 24\n",
    "    print(str(wanted_hour).zfill(2), \":\", str(minute).zfill(2))\n",
    "    return\n",
    "\n",
    "\n",
    "hour = int(input(\"please enter the hour \"))\n",
    "minute = int(input(\"please enter the minute \"))\n",
    "area = input(\"please enter the erea you want its time as tlv for tel-aviv, nyc for new-york, and tokio for tokio \")\n",
    "if 0 <= hour <= 23 and 0 <= minute <= 59:\n",
    "    time(hour, minute, area)\n",
    "else:\n",
    "    print(\"Error!\")"
   ]
  },
  {
   "cell_type": "markdown",
   "metadata": {},
   "source": [
    "## <p style=\"text-align:right;direction:right;\">רמזים</p>"
   ]
  },
  {
   "cell_type": "markdown",
   "metadata": {},
   "source": [
    "<p style=\"text-align:right;direction:rtl;\">פונקציות שימושיות:\n",
    "    <span style=\"direction: rtl; background: #000; text: #000\"><br><em>split</em> – מתודה של <em>string</em>.<br>\n",
    "        האופרטור % (מודולו) – חשבו עם איזה מספר צריך לעשות מודולו.<br>\n",
    "        <em>zfill</em> – השתמשו בה במקרה שהשעה חד־ספרתית (לדוגמה 1:05 תהפוך ל־01:05) </span>\n",
    "   \n",
    "<p style=\"text-align:right;direction:rtl;\">רמזים נוספים:<br>\n",
    "    <span style=\"direction: rtl; background: #000; text: #000\">מומלץ להמיר את השעה מ־<em>string</em> ל־<em>int</em> ואז לבצע את פעולות החשבון, ולבסוף להמיר חזרה ל־<em>string</em>\n",
    "    </span>\n",
    "</p>"
   ]
  },
  {
   "cell_type": "markdown",
   "metadata": {},
   "source": [
    "<p style=\"text-align:right;direction:rtl;\"> כעת כתבו פונקציה המקבלת שני פרמטרים – שעה ואזור זמן ובאמצעות הפונקציה מהתרגיל הקודם מחזירה את השעה באזור הזמן המבוקש.\n",
    "<br>\n",
    "    לדוגמה:\n",
    "</p>\n",
    "<p style=\"text-align:left;direction:ltr;\">\n",
    "    <code>convert_to_timezone(\"10:34\", \"TLV\")</code>\n",
    "    <br>\n",
    "    <samp>\"13:34\"</samp>\n",
    "</p>"
   ]
  },
  {
   "cell_type": "code",
   "execution_count": null,
   "metadata": {},
   "outputs": [],
   "source": [
    "# כתבו את הפונקציה שלכם כאן"
   ]
  },
  {
   "cell_type": "markdown",
   "metadata": {},
   "source": [
    "## <span style=\"text-align: right; direction:rtl; float: right; clear: both;\">אורכי רשימות</span>"
   ]
  },
  {
   "cell_type": "markdown",
   "metadata": {},
   "source": [
    "<p style=\"text-align: right; direction: rtl; float: right; clear: both;\">\n",
    "    כתבו תוכנית שמקבלת 2 רשימות שונות, ומדפיסה:\n",
    "</p>\n",
    "\n",
    "<ul style=\"text-align: right; direction: rtl; float: right; clear: both;\">\n",
    " <li>\"<samp>Same length</samp>\" אם הן באותו אורך.</li>\n",
    " <li>\"<samp>Not same length</samp>\" אם הן באורך שונה.</li>\n",
    " <li>\"<samp>Got empty list</samp>\" אם רשימה שקיבלנו היא באורך 0.</li>\n",
    "</ul>\n",
    "\n",
    "<p style=\"text-align: right; direction: rtl; float: right; clear: both;\">\n",
    "    לדוגמה – אם קיבלנו 2 רשימות ריקות, נדפיס:<br>\n",
    "    <samp style=\"text-align: left; direction: ltr; float: left; clear: both;\">\n",
    "        \"Got empty list\"\n",
    "        \"Got empty list\"\n",
    "        \"Same length\"\n",
    "    </samp>\n",
    "</p>"
   ]
  },
  {
   "cell_type": "code",
   "execution_count": null,
   "metadata": {},
   "outputs": [],
   "source": [
    "# upload 35\n",
    "def same(list1, list2):\n",
    "    if len(list1) == 0:\n",
    "        print(\"Got empty list\")\n",
    "        if len(list2) == 0:\n",
    "            print(\"Got empty list\")\n",
    "            return \"Same lenght\"\n",
    "        else:\n",
    "            print(\"Not same lenght\")\n",
    "    elif len(list2) == 0:\n",
    "        print(\"Got empty list\")\n",
    "        if len(list1) == 0:\n",
    "            print(\"Got empty list\")\n",
    "            return \"Same lenght\"\n",
    "        else:\n",
    "            print(\"Not same lenght\")\n",
    "    elif len(list1) == len(list2):\n",
    "        print(\"Same lenght\")\n",
    "    elif len(list1) != len(list2):\n",
    "        print(\"Not same list\")\n",
    "\n"
   ]
  },
  {
   "cell_type": "markdown",
   "metadata": {},
   "source": [
    "## <span style=\"text-align: right; direction:rtl; float: right; clear: both;\">מיקומים</span>"
   ]
  },
  {
   "cell_type": "markdown",
   "metadata": {},
   "source": [
    "<p style=\"text-align: right; direction: rtl; float: right; clear: both;\">\n",
    "כתבו פונקציה שמקבלת רשימה של רשימות.<br>\n",
    "אם הרשימה החיצונית לא באורך 6, הפונקציה תדפיס <samp>Only lists of length 6 are allowed</samp>.<br>\n",
    "הפונקציה תדפיס \"<samp dir=\"ltr\">Yes!</samp>\" אם אחד מהבאים מתקיים:\n",
    "</p>\n",
    "\n",
    "<ul style=\"text-align: right; direction: rtl; float: right; clear: both;\">\n",
    "    <li>אורך הרשימה במקום ה־0 שווה לאורך הרשימה במקום ה־4</li>\n",
    "    <li>אורך הרשימה במקום ה־3 שווה לאורך הרשימה במקום ה־2 וה־1</li>\n",
    "    <li>אורך הרשימה במקום ה־5 שווה שווה לאורך הרשימה במקום ה־3</li>\n",
    "</ul>\n",
    "   \n",
    "<p style=\"text-align: right; direction: rtl; float: right; clear: both;\">\n",
    "הפונקציה תדפיס \"<samp dir=\"ltr\">Yes!</samp>\" עבור כל תנאי שמתקיים, גם אם קיים יותר מאחד כזה.<br>\n",
    "לדוגמה, עבור:<br>\n",
    "<code dir=\"ltr\" style=\"direction: ltr;\">multi = [[0], [1], [2], [3], [4], [5]]</code><br>\n",
    "כל התנאים מתקיימים, ולכן נדפיס \"<samp dir=\"ltr\">Yes!</samp>\" 3 פעמים.\n",
    "</p>\n",
    "\n",
    "<p style=\"text-align: right; direction: rtl; float: right; clear: both;\">\n",
    "כתבו לפחות 3 דוגמאות שונות שמדגימות:\n",
    "</p>\n",
    "\n",
    "<ul style=\"text-align: right; direction: rtl; float: right; clear: both;\">\n",
    "    <li>אפס הדפסות</li>\n",
    "    <li>הדפסה אחת</li>\n",
    "    <li>שתי הדפסות</li>\n",
    "    <li>שלוש הדפסות</li>\n",
    "</ul>"
   ]
  },
  {
   "cell_type": "code",
   "execution_count": 18,
   "metadata": {},
   "outputs": [
    {
     "ename": "SyntaxError",
     "evalue": "invalid syntax (<ipython-input-18-420b2dc39df1>, line 18)",
     "output_type": "error",
     "traceback": [
      "\u001b[1;36m  File \u001b[1;32m\"<ipython-input-18-420b2dc39df1>\"\u001b[1;36m, line \u001b[1;32m18\u001b[0m\n\u001b[1;33m    return str(hour).zfill(2) + \":\" str(minute).zfill(2)\u001b[0m\n\u001b[1;37m                                      ^\u001b[0m\n\u001b[1;31mSyntaxError\u001b[0m\u001b[1;31m:\u001b[0m invalid syntax\n"
     ]
    }
   ],
   "source": [
    "def time(hour, minute, zone):\n",
    "    if 0 <= hour <= 23 and 0 <= minute <= 59:\n",
    "        if zone == \"tlv\" or  zone == \"nyc\" or  zone == \"tok\":\n",
    "            if zone == \"tlv\":\n",
    "                hour += 3\n",
    "            elif zone == \"nyc\":\n",
    "                hour -= 9\n",
    "            elif zone == \"tok\":\n",
    "                hour += 4\n",
    "            if hour == 24:\n",
    "                hour = 0\n",
    "            if hour == 25:\n",
    "                hour = 1\n",
    "            hour = str(hour).zfiil(2)\n",
    "            minute = str(minute).zfill(2)\n",
    "            \n",
    "        else:\n",
    "            return str(hour).zfill(2) + \":\" str(minute).zfill(2)\n",
    "        #hour = str(hour).zfiil(2)\n",
    "        #minute = str(minute).zfill(2)\n",
    "        "
   ]
  },
  {
   "cell_type": "code",
   "execution_count": 19,
   "metadata": {},
   "outputs": [
    {
     "name": "stdout",
     "output_type": "stream",
     "text": [
      "Yes!\n",
      "Yes!\n",
      "Yes!\n"
     ]
    }
   ],
   "source": [
    "# upload 36\n",
    "def list_of_lists(lists):\n",
    "    if len(lists) != 6:\n",
    "        return \"Only lists of lenght 6 are allowed\"\n",
    "    elif len(lists) == 6:\n",
    "        if len(lists[0]) == len(lists[4]):\n",
    "            print(\"Yes!\")\n",
    "        if len(lists[3]) == len(lists[2]) == len(lists[1]):\n",
    "            print(\"Yes!\")\n",
    "        if len(lists[5]) == len(lists[3]):\n",
    "            print(\"Yes!\")\n",
    "\n",
    "\n",
    "list_of_lists([[0], [1], [2], [3], [4], [5]])"
   ]
  }
 ],
 "metadata": {
  "kernelspec": {
   "display_name": "Python 3",
   "language": "python",
   "name": "python3"
  },
  "language_info": {
   "codemirror_mode": {
    "name": "ipython",
    "version": 3
   },
   "file_extension": ".py",
   "mimetype": "text/x-python",
   "name": "python",
   "nbconvert_exporter": "python",
   "pygments_lexer": "ipython3",
   "version": "3.7.6"
  }
 },
 "nbformat": 4,
 "nbformat_minor": 2
}
